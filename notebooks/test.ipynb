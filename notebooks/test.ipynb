{
 "cells": [
  {
   "cell_type": "code",
   "execution_count": 1,
   "id": "99064cda-9fbb-448b-9c7d-e5bd8d8a3db1",
   "metadata": {},
   "outputs": [
    {
     "data": {
      "text/html": [
       "<pre style=\"white-space:pre;overflow-x:auto;line-height:normal;font-family:Menlo,'DejaVu Sans Mono',consolas,'Courier New',monospace\"><span style=\"color: #7fbfbf; text-decoration-color: #7fbfbf\">[11/04/24 18:08:40] </span><span style=\"color: #000080; text-decoration-color: #000080\">INFO    </span> Using                                                                  <a href=\"file://C:\\Users\\jampu\\OneDrive\\Desktop\\EX_Monopoly\\venv\\Lib\\site-packages\\kedro\\framework\\project\\__init__.py\" target=\"_blank\"><span style=\"color: #7f7f7f; text-decoration-color: #7f7f7f\">__init__.py</span></a><span style=\"color: #7f7f7f; text-decoration-color: #7f7f7f\">:</span><a href=\"file://C:\\Users\\jampu\\OneDrive\\Desktop\\EX_Monopoly\\venv\\Lib\\site-packages\\kedro\\framework\\project\\__init__.py#270\" target=\"_blank\"><span style=\"color: #7f7f7f; text-decoration-color: #7f7f7f\">270</span></a>\n",
       "<span style=\"color: #7fbfbf; text-decoration-color: #7fbfbf\">                    </span>         <span style=\"color: #008000; text-decoration-color: #008000\">'C:\\Users\\jampu\\OneDrive\\Desktop\\EX_Monopoly\\venv\\Lib\\site-packages\\ke</span> <span style=\"color: #7f7f7f; text-decoration-color: #7f7f7f\">               </span>\n",
       "<span style=\"color: #7fbfbf; text-decoration-color: #7fbfbf\">                    </span>         <span style=\"color: #008000; text-decoration-color: #008000\">dro\\framework\\project\\rich_logging.yml'</span> as logging configuration.      <span style=\"color: #7f7f7f; text-decoration-color: #7f7f7f\">               </span>\n",
       "</pre>\n"
      ],
      "text/plain": [
       "\u001b[2;36m[11/04/24 18:08:40]\u001b[0m\u001b[2;36m \u001b[0m\u001b[34mINFO    \u001b[0m Using                                                                  \u001b]8;id=880886;file://C:\\Users\\jampu\\OneDrive\\Desktop\\EX_Monopoly\\venv\\Lib\\site-packages\\kedro\\framework\\project\\__init__.py\u001b\\\u001b[2m__init__.py\u001b[0m\u001b]8;;\u001b\\\u001b[2m:\u001b[0m\u001b]8;id=535835;file://C:\\Users\\jampu\\OneDrive\\Desktop\\EX_Monopoly\\venv\\Lib\\site-packages\\kedro\\framework\\project\\__init__.py#270\u001b\\\u001b[2m270\u001b[0m\u001b]8;;\u001b\\\n",
       "\u001b[2;36m                    \u001b[0m         \u001b[32m'C:\\Users\\jampu\\OneDrive\\Desktop\\EX_Monopoly\\venv\\Lib\\site-packages\\ke\u001b[0m \u001b[2m               \u001b[0m\n",
       "\u001b[2;36m                    \u001b[0m         \u001b[32mdro\\framework\\project\\rich_logging.yml'\u001b[0m as logging configuration.      \u001b[2m               \u001b[0m\n"
      ]
     },
     "metadata": {},
     "output_type": "display_data"
    },
    {
     "data": {
      "text/html": [
       "<pre style=\"white-space:pre;overflow-x:auto;line-height:normal;font-family:Menlo,'DejaVu Sans Mono',consolas,'Courier New',monospace\"><span style=\"color: #7fbfbf; text-decoration-color: #7fbfbf\">                    </span><span style=\"color: #000080; text-decoration-color: #000080\">INFO    </span> Registered line magic <span style=\"color: #008000; text-decoration-color: #008000\">'%reload_kedro'</span>                                   <a href=\"file://C:\\Users\\jampu\\OneDrive\\Desktop\\EX_Monopoly\\venv\\Lib\\site-packages\\kedro\\ipython\\__init__.py\" target=\"_blank\"><span style=\"color: #7f7f7f; text-decoration-color: #7f7f7f\">__init__.py</span></a><span style=\"color: #7f7f7f; text-decoration-color: #7f7f7f\">:</span><a href=\"file://C:\\Users\\jampu\\OneDrive\\Desktop\\EX_Monopoly\\venv\\Lib\\site-packages\\kedro\\ipython\\__init__.py#61\" target=\"_blank\"><span style=\"color: #7f7f7f; text-decoration-color: #7f7f7f\">61</span></a>\n",
       "</pre>\n"
      ],
      "text/plain": [
       "\u001b[2;36m                   \u001b[0m\u001b[2;36m \u001b[0m\u001b[34mINFO    \u001b[0m Registered line magic \u001b[32m'%reload_kedro'\u001b[0m                                   \u001b]8;id=557949;file://C:\\Users\\jampu\\OneDrive\\Desktop\\EX_Monopoly\\venv\\Lib\\site-packages\\kedro\\ipython\\__init__.py\u001b\\\u001b[2m__init__.py\u001b[0m\u001b]8;;\u001b\\\u001b[2m:\u001b[0m\u001b]8;id=917423;file://C:\\Users\\jampu\\OneDrive\\Desktop\\EX_Monopoly\\venv\\Lib\\site-packages\\kedro\\ipython\\__init__.py#61\u001b\\\u001b[2m61\u001b[0m\u001b]8;;\u001b\\\n"
      ]
     },
     "metadata": {},
     "output_type": "display_data"
    },
    {
     "data": {
      "text/html": [
       "<pre style=\"white-space:pre;overflow-x:auto;line-height:normal;font-family:Menlo,'DejaVu Sans Mono',consolas,'Courier New',monospace\"><span style=\"color: #7fbfbf; text-decoration-color: #7fbfbf\">                    </span><span style=\"color: #000080; text-decoration-color: #000080\">INFO    </span> Registered line magic <span style=\"color: #008000; text-decoration-color: #008000\">'%load_node'</span>                                      <a href=\"file://C:\\Users\\jampu\\OneDrive\\Desktop\\EX_Monopoly\\venv\\Lib\\site-packages\\kedro\\ipython\\__init__.py\" target=\"_blank\"><span style=\"color: #7f7f7f; text-decoration-color: #7f7f7f\">__init__.py</span></a><span style=\"color: #7f7f7f; text-decoration-color: #7f7f7f\">:</span><a href=\"file://C:\\Users\\jampu\\OneDrive\\Desktop\\EX_Monopoly\\venv\\Lib\\site-packages\\kedro\\ipython\\__init__.py#63\" target=\"_blank\"><span style=\"color: #7f7f7f; text-decoration-color: #7f7f7f\">63</span></a>\n",
       "</pre>\n"
      ],
      "text/plain": [
       "\u001b[2;36m                   \u001b[0m\u001b[2;36m \u001b[0m\u001b[34mINFO    \u001b[0m Registered line magic \u001b[32m'%load_node'\u001b[0m                                      \u001b]8;id=614945;file://C:\\Users\\jampu\\OneDrive\\Desktop\\EX_Monopoly\\venv\\Lib\\site-packages\\kedro\\ipython\\__init__.py\u001b\\\u001b[2m__init__.py\u001b[0m\u001b]8;;\u001b\\\u001b[2m:\u001b[0m\u001b]8;id=768804;file://C:\\Users\\jampu\\OneDrive\\Desktop\\EX_Monopoly\\venv\\Lib\\site-packages\\kedro\\ipython\\__init__.py#63\u001b\\\u001b[2m63\u001b[0m\u001b]8;;\u001b\\\n"
      ]
     },
     "metadata": {},
     "output_type": "display_data"
    },
    {
     "data": {
      "text/html": [
       "<pre style=\"white-space:pre;overflow-x:auto;line-height:normal;font-family:Menlo,'DejaVu Sans Mono',consolas,'Courier New',monospace\"><span style=\"color: #7fbfbf; text-decoration-color: #7fbfbf\">                    </span><span style=\"color: #000080; text-decoration-color: #000080\">INFO    </span> Resolved project path as:                                              <a href=\"file://C:\\Users\\jampu\\OneDrive\\Desktop\\EX_Monopoly\\venv\\Lib\\site-packages\\kedro\\ipython\\__init__.py\" target=\"_blank\"><span style=\"color: #7f7f7f; text-decoration-color: #7f7f7f\">__init__.py</span></a><span style=\"color: #7f7f7f; text-decoration-color: #7f7f7f\">:</span><a href=\"file://C:\\Users\\jampu\\OneDrive\\Desktop\\EX_Monopoly\\venv\\Lib\\site-packages\\kedro\\ipython\\__init__.py#178\" target=\"_blank\"><span style=\"color: #7f7f7f; text-decoration-color: #7f7f7f\">178</span></a>\n",
       "<span style=\"color: #7fbfbf; text-decoration-color: #7fbfbf\">                    </span>         C:\\Users\\jampu\\OneDrive\\Desktop\\EX_Monopoly\\monopoly.                  <span style=\"color: #7f7f7f; text-decoration-color: #7f7f7f\">               </span>\n",
       "<span style=\"color: #7fbfbf; text-decoration-color: #7fbfbf\">                    </span>         To set a different path, run <span style=\"color: #008000; text-decoration-color: #008000\">'%reload_kedro &lt;project_root&gt;'</span>            <span style=\"color: #7f7f7f; text-decoration-color: #7f7f7f\">               </span>\n",
       "</pre>\n"
      ],
      "text/plain": [
       "\u001b[2;36m                   \u001b[0m\u001b[2;36m \u001b[0m\u001b[34mINFO    \u001b[0m Resolved project path as:                                              \u001b]8;id=386988;file://C:\\Users\\jampu\\OneDrive\\Desktop\\EX_Monopoly\\venv\\Lib\\site-packages\\kedro\\ipython\\__init__.py\u001b\\\u001b[2m__init__.py\u001b[0m\u001b]8;;\u001b\\\u001b[2m:\u001b[0m\u001b]8;id=225908;file://C:\\Users\\jampu\\OneDrive\\Desktop\\EX_Monopoly\\venv\\Lib\\site-packages\\kedro\\ipython\\__init__.py#178\u001b\\\u001b[2m178\u001b[0m\u001b]8;;\u001b\\\n",
       "\u001b[2;36m                    \u001b[0m         C:\\Users\\jampu\\OneDrive\\Desktop\\EX_Monopoly\\monopoly.                  \u001b[2m               \u001b[0m\n",
       "\u001b[2;36m                    \u001b[0m         To set a different path, run \u001b[32m'%reload_kedro \u001b[0m\u001b[32m<\u001b[0m\u001b[32mproject_root\u001b[0m\u001b[32m>\u001b[0m\u001b[32m'\u001b[0m            \u001b[2m               \u001b[0m\n"
      ]
     },
     "metadata": {},
     "output_type": "display_data"
    },
    {
     "data": {
      "text/html": [
       "<pre style=\"white-space:pre;overflow-x:auto;line-height:normal;font-family:Menlo,'DejaVu Sans Mono',consolas,'Courier New',monospace\"><span style=\"color: #7fbfbf; text-decoration-color: #7fbfbf\">                    </span><span style=\"color: #808000; text-decoration-color: #808000\">WARNING </span> C:\\Users\\jampu\\OneDrive\\Desktop\\EX_Monopoly\\venv\\Lib\\site-packages\\ked <a href=\"file://C:\\Users\\jampu\\AppData\\Local\\Programs\\Python\\Python312\\Lib\\warnings.py\" target=\"_blank\"><span style=\"color: #7f7f7f; text-decoration-color: #7f7f7f\">warnings.py</span></a><span style=\"color: #7f7f7f; text-decoration-color: #7f7f7f\">:</span><a href=\"file://C:\\Users\\jampu\\AppData\\Local\\Programs\\Python\\Python312\\Lib\\warnings.py#112\" target=\"_blank\"><span style=\"color: #7f7f7f; text-decoration-color: #7f7f7f\">112</span></a>\n",
       "<span style=\"color: #7fbfbf; text-decoration-color: #7fbfbf\">                    </span>         ro_viz\\__init__.py:<span style=\"color: #008080; text-decoration-color: #008080; font-weight: bold\">13</span>: KedroVizPythonVersionWarning: Please be advised <span style=\"color: #7f7f7f; text-decoration-color: #7f7f7f\">               </span>\n",
       "<span style=\"color: #7fbfbf; text-decoration-color: #7fbfbf\">                    </span>         that Kedro Viz is not yet fully                                        <span style=\"color: #7f7f7f; text-decoration-color: #7f7f7f\">               </span>\n",
       "<span style=\"color: #7fbfbf; text-decoration-color: #7fbfbf\">                    </span>                 compatible with the Python version you are currently using.    <span style=\"color: #7f7f7f; text-decoration-color: #7f7f7f\">               </span>\n",
       "<span style=\"color: #7fbfbf; text-decoration-color: #7fbfbf\">                    </span>           <span style=\"color: #800080; text-decoration-color: #800080; font-weight: bold\">warnings.warn</span><span style=\"font-weight: bold\">(</span>                                                       <span style=\"color: #7f7f7f; text-decoration-color: #7f7f7f\">               </span>\n",
       "<span style=\"color: #7fbfbf; text-decoration-color: #7fbfbf\">                    </span>                                                                                <span style=\"color: #7f7f7f; text-decoration-color: #7f7f7f\">               </span>\n",
       "</pre>\n"
      ],
      "text/plain": [
       "\u001b[2;36m                   \u001b[0m\u001b[2;36m \u001b[0m\u001b[33mWARNING \u001b[0m C:\\Users\\jampu\\OneDrive\\Desktop\\EX_Monopoly\\venv\\Lib\\site-packages\\ked \u001b]8;id=299520;file://C:\\Users\\jampu\\AppData\\Local\\Programs\\Python\\Python312\\Lib\\warnings.py\u001b\\\u001b[2mwarnings.py\u001b[0m\u001b]8;;\u001b\\\u001b[2m:\u001b[0m\u001b]8;id=136477;file://C:\\Users\\jampu\\AppData\\Local\\Programs\\Python\\Python312\\Lib\\warnings.py#112\u001b\\\u001b[2m112\u001b[0m\u001b]8;;\u001b\\\n",
       "\u001b[2;36m                    \u001b[0m         ro_viz\\__init__.py:\u001b[1;36m13\u001b[0m: KedroVizPythonVersionWarning: Please be advised \u001b[2m               \u001b[0m\n",
       "\u001b[2;36m                    \u001b[0m         that Kedro Viz is not yet fully                                        \u001b[2m               \u001b[0m\n",
       "\u001b[2;36m                    \u001b[0m                 compatible with the Python version you are currently using.    \u001b[2m               \u001b[0m\n",
       "\u001b[2;36m                    \u001b[0m           \u001b[1;35mwarnings.warn\u001b[0m\u001b[1m(\u001b[0m                                                       \u001b[2m               \u001b[0m\n",
       "\u001b[2;36m                    \u001b[0m                                                                                \u001b[2m               \u001b[0m\n"
      ]
     },
     "metadata": {},
     "output_type": "display_data"
    },
    {
     "data": {
      "text/html": [
       "<pre style=\"white-space:pre;overflow-x:auto;line-height:normal;font-family:Menlo,'DejaVu Sans Mono',consolas,'Courier New',monospace\"><span style=\"color: #7fbfbf; text-decoration-color: #7fbfbf\">[11/04/24 18:08:43] </span><span style=\"color: #000080; text-decoration-color: #000080\">INFO    </span> Kedro is sending anonymous usage data with the sole purpose of improving <a href=\"file://C:\\Users\\jampu\\OneDrive\\Desktop\\EX_Monopoly\\venv\\Lib\\site-packages\\kedro_telemetry\\plugin.py\" target=\"_blank\"><span style=\"color: #7f7f7f; text-decoration-color: #7f7f7f\">plugin.py</span></a><span style=\"color: #7f7f7f; text-decoration-color: #7f7f7f\">:</span><a href=\"file://C:\\Users\\jampu\\OneDrive\\Desktop\\EX_Monopoly\\venv\\Lib\\site-packages\\kedro_telemetry\\plugin.py#233\" target=\"_blank\"><span style=\"color: #7f7f7f; text-decoration-color: #7f7f7f\">233</span></a>\n",
       "<span style=\"color: #7fbfbf; text-decoration-color: #7fbfbf\">                    </span>         the product. No personal data or IP addresses are stored on our side. If <span style=\"color: #7f7f7f; text-decoration-color: #7f7f7f\">             </span>\n",
       "<span style=\"color: #7fbfbf; text-decoration-color: #7fbfbf\">                    </span>         you want to opt out, set the `KEDRO_DISABLE_TELEMETRY` or `DO_NOT_TRACK` <span style=\"color: #7f7f7f; text-decoration-color: #7f7f7f\">             </span>\n",
       "<span style=\"color: #7fbfbf; text-decoration-color: #7fbfbf\">                    </span>         environment variables, or create a `.telemetry` file in the current      <span style=\"color: #7f7f7f; text-decoration-color: #7f7f7f\">             </span>\n",
       "<span style=\"color: #7fbfbf; text-decoration-color: #7fbfbf\">                    </span>         working directory with the contents `consent: false`. Read more at       <span style=\"color: #7f7f7f; text-decoration-color: #7f7f7f\">             </span>\n",
       "<span style=\"color: #7fbfbf; text-decoration-color: #7fbfbf\">                    </span>         <span style=\"color: #0000ff; text-decoration-color: #0000ff; text-decoration: underline\">https://docs.kedro.org/en/stable/configuration/telemetry.html</span>            <span style=\"color: #7f7f7f; text-decoration-color: #7f7f7f\">             </span>\n",
       "</pre>\n"
      ],
      "text/plain": [
       "\u001b[2;36m[11/04/24 18:08:43]\u001b[0m\u001b[2;36m \u001b[0m\u001b[34mINFO    \u001b[0m Kedro is sending anonymous usage data with the sole purpose of improving \u001b]8;id=325446;file://C:\\Users\\jampu\\OneDrive\\Desktop\\EX_Monopoly\\venv\\Lib\\site-packages\\kedro_telemetry\\plugin.py\u001b\\\u001b[2mplugin.py\u001b[0m\u001b]8;;\u001b\\\u001b[2m:\u001b[0m\u001b]8;id=189086;file://C:\\Users\\jampu\\OneDrive\\Desktop\\EX_Monopoly\\venv\\Lib\\site-packages\\kedro_telemetry\\plugin.py#233\u001b\\\u001b[2m233\u001b[0m\u001b]8;;\u001b\\\n",
       "\u001b[2;36m                    \u001b[0m         the product. No personal data or IP addresses are stored on our side. If \u001b[2m             \u001b[0m\n",
       "\u001b[2;36m                    \u001b[0m         you want to opt out, set the `KEDRO_DISABLE_TELEMETRY` or `DO_NOT_TRACK` \u001b[2m             \u001b[0m\n",
       "\u001b[2;36m                    \u001b[0m         environment variables, or create a `.telemetry` file in the current      \u001b[2m             \u001b[0m\n",
       "\u001b[2;36m                    \u001b[0m         working directory with the contents `consent: false`. Read more at       \u001b[2m             \u001b[0m\n",
       "\u001b[2;36m                    \u001b[0m         \u001b[4;94mhttps://docs.kedro.org/en/stable/configuration/telemetry.html\u001b[0m            \u001b[2m             \u001b[0m\n"
      ]
     },
     "metadata": {},
     "output_type": "display_data"
    },
    {
     "data": {
      "text/html": [
       "<pre style=\"white-space:pre;overflow-x:auto;line-height:normal;font-family:Menlo,'DejaVu Sans Mono',consolas,'Courier New',monospace\"><span style=\"color: #7fbfbf; text-decoration-color: #7fbfbf\">[11/04/24 18:08:44] </span><span style=\"color: #000080; text-decoration-color: #000080\">INFO    </span> Kedro project Monopoly                                                 <a href=\"file://C:\\Users\\jampu\\OneDrive\\Desktop\\EX_Monopoly\\venv\\Lib\\site-packages\\kedro\\ipython\\__init__.py\" target=\"_blank\"><span style=\"color: #7f7f7f; text-decoration-color: #7f7f7f\">__init__.py</span></a><span style=\"color: #7f7f7f; text-decoration-color: #7f7f7f\">:</span><a href=\"file://C:\\Users\\jampu\\OneDrive\\Desktop\\EX_Monopoly\\venv\\Lib\\site-packages\\kedro\\ipython\\__init__.py#144\" target=\"_blank\"><span style=\"color: #7f7f7f; text-decoration-color: #7f7f7f\">144</span></a>\n",
       "</pre>\n"
      ],
      "text/plain": [
       "\u001b[2;36m[11/04/24 18:08:44]\u001b[0m\u001b[2;36m \u001b[0m\u001b[34mINFO    \u001b[0m Kedro project Monopoly                                                 \u001b]8;id=308029;file://C:\\Users\\jampu\\OneDrive\\Desktop\\EX_Monopoly\\venv\\Lib\\site-packages\\kedro\\ipython\\__init__.py\u001b\\\u001b[2m__init__.py\u001b[0m\u001b]8;;\u001b\\\u001b[2m:\u001b[0m\u001b]8;id=395001;file://C:\\Users\\jampu\\OneDrive\\Desktop\\EX_Monopoly\\venv\\Lib\\site-packages\\kedro\\ipython\\__init__.py#144\u001b\\\u001b[2m144\u001b[0m\u001b]8;;\u001b\\\n"
      ]
     },
     "metadata": {},
     "output_type": "display_data"
    },
    {
     "data": {
      "text/html": [
       "<pre style=\"white-space:pre;overflow-x:auto;line-height:normal;font-family:Menlo,'DejaVu Sans Mono',consolas,'Courier New',monospace\"><span style=\"color: #7fbfbf; text-decoration-color: #7fbfbf\">                    </span><span style=\"color: #000080; text-decoration-color: #000080\">INFO    </span> Defined global variable <span style=\"color: #008000; text-decoration-color: #008000\">'context'</span>, <span style=\"color: #008000; text-decoration-color: #008000\">'session'</span>, <span style=\"color: #008000; text-decoration-color: #008000\">'catalog'</span> and            <a href=\"file://C:\\Users\\jampu\\OneDrive\\Desktop\\EX_Monopoly\\venv\\Lib\\site-packages\\kedro\\ipython\\__init__.py\" target=\"_blank\"><span style=\"color: #7f7f7f; text-decoration-color: #7f7f7f\">__init__.py</span></a><span style=\"color: #7f7f7f; text-decoration-color: #7f7f7f\">:</span><a href=\"file://C:\\Users\\jampu\\OneDrive\\Desktop\\EX_Monopoly\\venv\\Lib\\site-packages\\kedro\\ipython\\__init__.py#145\" target=\"_blank\"><span style=\"color: #7f7f7f; text-decoration-color: #7f7f7f\">145</span></a>\n",
       "<span style=\"color: #7fbfbf; text-decoration-color: #7fbfbf\">                    </span>         <span style=\"color: #008000; text-decoration-color: #008000\">'pipelines'</span>                                                            <span style=\"color: #7f7f7f; text-decoration-color: #7f7f7f\">               </span>\n",
       "</pre>\n"
      ],
      "text/plain": [
       "\u001b[2;36m                   \u001b[0m\u001b[2;36m \u001b[0m\u001b[34mINFO    \u001b[0m Defined global variable \u001b[32m'context'\u001b[0m, \u001b[32m'session'\u001b[0m, \u001b[32m'catalog'\u001b[0m and            \u001b]8;id=198875;file://C:\\Users\\jampu\\OneDrive\\Desktop\\EX_Monopoly\\venv\\Lib\\site-packages\\kedro\\ipython\\__init__.py\u001b\\\u001b[2m__init__.py\u001b[0m\u001b]8;;\u001b\\\u001b[2m:\u001b[0m\u001b]8;id=124922;file://C:\\Users\\jampu\\OneDrive\\Desktop\\EX_Monopoly\\venv\\Lib\\site-packages\\kedro\\ipython\\__init__.py#145\u001b\\\u001b[2m145\u001b[0m\u001b]8;;\u001b\\\n",
       "\u001b[2;36m                    \u001b[0m         \u001b[32m'pipelines'\u001b[0m                                                            \u001b[2m               \u001b[0m\n"
      ]
     },
     "metadata": {},
     "output_type": "display_data"
    },
    {
     "data": {
      "text/html": [
       "<pre style=\"white-space:pre;overflow-x:auto;line-height:normal;font-family:Menlo,'DejaVu Sans Mono',consolas,'Courier New',monospace\"><span style=\"color: #7fbfbf; text-decoration-color: #7fbfbf\">[11/04/24 18:08:45] </span><span style=\"color: #000080; text-decoration-color: #000080\">INFO    </span> Registered line magic <span style=\"color: #008000; text-decoration-color: #008000\">'run_viz'</span>                                        <a href=\"file://C:\\Users\\jampu\\OneDrive\\Desktop\\EX_Monopoly\\venv\\Lib\\site-packages\\kedro\\ipython\\__init__.py\" target=\"_blank\"><span style=\"color: #7f7f7f; text-decoration-color: #7f7f7f\">__init__.py</span></a><span style=\"color: #7f7f7f; text-decoration-color: #7f7f7f\">:</span><a href=\"file://C:\\Users\\jampu\\OneDrive\\Desktop\\EX_Monopoly\\venv\\Lib\\site-packages\\kedro\\ipython\\__init__.py#151\" target=\"_blank\"><span style=\"color: #7f7f7f; text-decoration-color: #7f7f7f\">151</span></a>\n",
       "</pre>\n"
      ],
      "text/plain": [
       "\u001b[2;36m[11/04/24 18:08:45]\u001b[0m\u001b[2;36m \u001b[0m\u001b[34mINFO    \u001b[0m Registered line magic \u001b[32m'run_viz'\u001b[0m                                        \u001b]8;id=307337;file://C:\\Users\\jampu\\OneDrive\\Desktop\\EX_Monopoly\\venv\\Lib\\site-packages\\kedro\\ipython\\__init__.py\u001b\\\u001b[2m__init__.py\u001b[0m\u001b]8;;\u001b\\\u001b[2m:\u001b[0m\u001b]8;id=965424;file://C:\\Users\\jampu\\OneDrive\\Desktop\\EX_Monopoly\\venv\\Lib\\site-packages\\kedro\\ipython\\__init__.py#151\u001b\\\u001b[2m151\u001b[0m\u001b]8;;\u001b\\\n"
      ]
     },
     "metadata": {},
     "output_type": "display_data"
    }
   ],
   "source": [
    "%load_ext kedro.ipython"
   ]
  },
  {
   "cell_type": "code",
   "execution_count": 2,
   "id": "99969783-4254-4490-a5a4-65ec7da03f93",
   "metadata": {},
   "outputs": [
    {
     "data": {
      "text/html": [
       "<pre style=\"white-space:pre;overflow-x:auto;line-height:normal;font-family:Menlo,'DejaVu Sans Mono',consolas,'Courier New',monospace\"></pre>\n"
      ],
      "text/plain": []
     },
     "metadata": {},
     "output_type": "display_data"
    },
    {
     "data": {
      "text/plain": [
       "\n",
       "\u001b[1;35mKedroContext\u001b[0m\u001b[1m(\u001b[0m\n",
       "    \u001b[33mproject_path\u001b[0m=\u001b[1;35mWindowsPath\u001b[0m\u001b[1m(\u001b[0m\u001b[32m'C:/Users/jampu/OneDrive/Desktop/EX_Monopoly/monopoly'\u001b[0m\u001b[1m)\u001b[0m,\n",
       "    \u001b[33mconfig_loader\u001b[0m=\u001b[1;35mOmegaConfigLoader\u001b[0m\u001b[1m(\u001b[0m\u001b[33mconf_source\u001b[0m=\u001b[35mC\u001b[0m:\\Users\\jampu\\OneDrive\\Desktop\\EX_Monopoly\\monopoly\\conf, \u001b[33menv\u001b[0m=\u001b[3;35mNone\u001b[0m, \u001b[33mruntime_params\u001b[0m=\u001b[1m{\u001b[0m\u001b[1m}\u001b[0m, \u001b[33mconfig_patterns\u001b[0m=\u001b[1m{\u001b[0m\u001b[32m'catalog'\u001b[0m: \u001b[1m[\u001b[0m\u001b[32m'catalog*'\u001b[0m, \u001b[32m'catalog*/**'\u001b[0m, \u001b[32m'**/catalog*'\u001b[0m\u001b[1m]\u001b[0m, \u001b[32m'parameters'\u001b[0m: \u001b[1m[\u001b[0m\u001b[32m'parameters*'\u001b[0m, \u001b[32m'parameters*/**'\u001b[0m, \u001b[32m'**/parameters*'\u001b[0m\u001b[1m]\u001b[0m, \u001b[32m'credentials'\u001b[0m: \u001b[1m[\u001b[0m\u001b[32m'credentials*'\u001b[0m, \u001b[32m'credentials*/**'\u001b[0m, \u001b[32m'**/credentials*'\u001b[0m\u001b[1m]\u001b[0m, \u001b[32m'globals'\u001b[0m: \u001b[1m[\u001b[0m\u001b[32m'globals.yml'\u001b[0m\u001b[1m]\u001b[0m\u001b[1m}\u001b[0m, \u001b[33mbase_env\u001b[0m=\u001b[35mbase\u001b[0m\u001b[1m)\u001b[0m, \u001b[33mdefault_run_env\u001b[0m=\u001b[35mlocal\u001b[0m\u001b[1m)\u001b[0m, \u001b[33mcustom_resolvers\u001b[0m=\u001b[3;35mNone\u001b[0m\u001b[1m)\u001b[0m, \u001b[33mmerge_strategy\u001b[0m=\u001b[1m{\u001b[0m\u001b[1m}\u001b[0m\u001b[1m)\u001b[0m,\n",
       "    \u001b[33menv\u001b[0m=\u001b[3;35mNone\u001b[0m,\n",
       "    \u001b[33m_package_name\u001b[0m=\u001b[3;35mNone\u001b[0m,\n",
       "    \u001b[33m_hook_manager\u001b[0m=\u001b[1m<\u001b[0m\u001b[1;95mpluggy._manager.PluginManager\u001b[0m\u001b[39m object at \u001b[0m\u001b[1;36m0x00000227D6BD69F0\u001b[0m\u001b[1m>\u001b[0m,\n",
       "    \u001b[33m_extra_params\u001b[0m=\u001b[3;35mNone\u001b[0m\n",
       "\u001b[1m)\u001b[0m"
      ]
     },
     "execution_count": 2,
     "metadata": {},
     "output_type": "execute_result"
    }
   ],
   "source": [
    "context"
   ]
  },
  {
   "cell_type": "code",
   "execution_count": 3,
   "id": "10c44290-60d0-4c69-8c0b-2508463f255d",
   "metadata": {},
   "outputs": [
    {
     "data": {
      "text/html": [
       "<pre style=\"white-space:pre;overflow-x:auto;line-height:normal;font-family:Menlo,'DejaVu Sans Mono',consolas,'Courier New',monospace\"></pre>\n"
      ],
      "text/plain": []
     },
     "metadata": {},
     "output_type": "display_data"
    },
    {
     "data": {
      "text/plain": [
       "\n",
       "\u001b[1m{\u001b[0m\u001b[32m'base_clientes_monopoly'\u001b[0m: \u001b[32m\"kedro_datasets.pandas.parquet_dataset.ParquetDataset\u001b[0m\u001b[32m(\u001b[0m\u001b[32mfilepath\u001b[0m\u001b[32m=\u001b[0m\u001b[32mPurePosixPath\u001b[0m\u001b[32m(\u001b[0m\u001b[32m'C:/Users/jampu/OneDrive/Desktop/EX_Monopoly/monopoly/data/01_raw/Base_clientes_Monopoly-0.parquet'\u001b[0m\u001b[32m)\u001b[0m\u001b[32m, \"\u001b[0m\n",
       "                           \u001b[32m\"\u001b[0m\u001b[32mprotocol\u001b[0m\u001b[32m='file', \u001b[0m\u001b[32mload_args\u001b[0m\u001b[32m=\u001b[0m\u001b[32m{\u001b[0m\u001b[32m'engine': 'pyarrow'\u001b[0m\u001b[32m}\u001b[0m\u001b[32m, \"\u001b[0m\n",
       "                           \u001b[32m'\u001b[0m\u001b[32msave_args\u001b[0m\u001b[32m=\u001b[0m\u001b[32m{\u001b[0m\u001b[32m}\u001b[0m\u001b[32m)\u001b[0m\u001b[32m'\u001b[0m,\n",
       " \u001b[32m'parameters'\u001b[0m: \u001b[32m\"kedro.io.memory_dataset.MemoryDataset\u001b[0m\u001b[32m(\u001b[0m\u001b[32mdata\u001b[0m\u001b[32m='\u001b[0m\u001b[32m<\u001b[0m\u001b[32mdict\u001b[0m\u001b[32m>\u001b[0m\u001b[32m'\u001b[0m\u001b[32m)\u001b[0m\u001b[32m\"\u001b[0m\u001b[1m}\u001b[0m"
      ]
     },
     "execution_count": 3,
     "metadata": {},
     "output_type": "execute_result"
    }
   ],
   "source": [
    "catalog"
   ]
  },
  {
   "cell_type": "code",
   "execution_count": 4,
   "id": "f090d5c4-1f7b-4057-881f-60485e244d8b",
   "metadata": {},
   "outputs": [
    {
     "data": {
      "text/html": [
       "<pre style=\"white-space:pre;overflow-x:auto;line-height:normal;font-family:Menlo,'DejaVu Sans Mono',consolas,'Courier New',monospace\"><span style=\"color: #7fbfbf; text-decoration-color: #7fbfbf\">[11/04/24 18:08:55] </span><span style=\"color: #000080; text-decoration-color: #000080\">INFO    </span> Loading data from <span style=\"color: #ff8700; text-decoration-color: #ff8700\">base_clientes_monopoly</span> <span style=\"font-weight: bold\">(</span>ParquetDataset<span style=\"font-weight: bold\">)</span><span style=\"color: #808000; text-decoration-color: #808000\">...</span>       <a href=\"file://C:\\Users\\jampu\\OneDrive\\Desktop\\EX_Monopoly\\venv\\Lib\\site-packages\\kedro\\io\\data_catalog.py\" target=\"_blank\"><span style=\"color: #7f7f7f; text-decoration-color: #7f7f7f\">data_catalog.py</span></a><span style=\"color: #7f7f7f; text-decoration-color: #7f7f7f\">:</span><a href=\"file://C:\\Users\\jampu\\OneDrive\\Desktop\\EX_Monopoly\\venv\\Lib\\site-packages\\kedro\\io\\data_catalog.py#389\" target=\"_blank\"><span style=\"color: #7f7f7f; text-decoration-color: #7f7f7f\">389</span></a>\n",
       "</pre>\n"
      ],
      "text/plain": [
       "\u001b[2;36m[11/04/24 18:08:55]\u001b[0m\u001b[2;36m \u001b[0m\u001b[34mINFO    \u001b[0m Loading data from \u001b[38;5;208mbase_clientes_monopoly\u001b[0m \u001b[1m(\u001b[0mParquetDataset\u001b[1m)\u001b[0m\u001b[33m...\u001b[0m       \u001b]8;id=701818;file://C:\\Users\\jampu\\OneDrive\\Desktop\\EX_Monopoly\\venv\\Lib\\site-packages\\kedro\\io\\data_catalog.py\u001b\\\u001b[2mdata_catalog.py\u001b[0m\u001b]8;;\u001b\\\u001b[2m:\u001b[0m\u001b]8;id=311260;file://C:\\Users\\jampu\\OneDrive\\Desktop\\EX_Monopoly\\venv\\Lib\\site-packages\\kedro\\io\\data_catalog.py#389\u001b\\\u001b[2m389\u001b[0m\u001b]8;;\u001b\\\n"
      ]
     },
     "metadata": {},
     "output_type": "display_data"
    }
   ],
   "source": [
    "df=catalog.load(\"base_clientes_monopoly\")"
   ]
  },
  {
   "cell_type": "code",
   "execution_count": 8,
   "id": "11b301e6-194c-42bf-b83a-79d4e4bb4d28",
   "metadata": {},
   "outputs": [
    {
     "data": {
      "text/html": [
       "<pre style=\"white-space:pre;overflow-x:auto;line-height:normal;font-family:Menlo,'DejaVu Sans Mono',consolas,'Courier New',monospace\"></pre>\n"
      ],
      "text/plain": []
     },
     "metadata": {},
     "output_type": "display_data"
    },
    {
     "data": {
      "text/html": [
       "<div>\n",
       "<style scoped>\n",
       "    .dataframe tbody tr th:only-of-type {\n",
       "        vertical-align: middle;\n",
       "    }\n",
       "\n",
       "    .dataframe tbody tr th {\n",
       "        vertical-align: top;\n",
       "    }\n",
       "\n",
       "    .dataframe thead th {\n",
       "        text-align: right;\n",
       "    }\n",
       "</style>\n",
       "<table border=\"1\" class=\"dataframe\">\n",
       "  <thead>\n",
       "    <tr style=\"text-align: right;\">\n",
       "      <th></th>\n",
       "      <th>1</th>\n",
       "      <th>1.1</th>\n",
       "      <th>1.2</th>\n",
       "      <th>1.3</th>\n",
       "      <th>1.4</th>\n",
       "      <th>1.5</th>\n",
       "      <th>1.6</th>\n",
       "      <th>1.7</th>\n",
       "      <th>1.8</th>\n",
       "      <th>1.9</th>\n",
       "      <th>...</th>\n",
       "      <th>1.565</th>\n",
       "      <th>1.566</th>\n",
       "      <th>1.567</th>\n",
       "      <th>1.568</th>\n",
       "      <th>1.569</th>\n",
       "      <th>1.570</th>\n",
       "      <th>1.571</th>\n",
       "      <th>1.572</th>\n",
       "      <th>1.573</th>\n",
       "      <th>574</th>\n",
       "    </tr>\n",
       "  </thead>\n",
       "  <tbody>\n",
       "    <tr>\n",
       "      <th>0</th>\n",
       "      <td>Id</td>\n",
       "      <td>Subsegmento</td>\n",
       "      <td>Sexo</td>\n",
       "      <td>Region</td>\n",
       "      <td>Edad</td>\n",
       "      <td>Renta</td>\n",
       "      <td>Antiguedad</td>\n",
       "      <td>Internauta</td>\n",
       "      <td>Adicional</td>\n",
       "      <td>Dualidad</td>\n",
       "      <td>...</td>\n",
       "      <td>PagoNac_T01</td>\n",
       "      <td>PagoInt_T01</td>\n",
       "      <td>EeccNac_T01</td>\n",
       "      <td>EeccInt_T01</td>\n",
       "      <td>UsoL1_T01</td>\n",
       "      <td>UsoL2_T01</td>\n",
       "      <td>UsoLI_T01</td>\n",
       "      <td>IndRev_T01</td>\n",
       "      <td>target</td>\n",
       "      <td>nan</td>\n",
       "    </tr>\n",
       "    <tr>\n",
       "      <th>1</th>\n",
       "      <td>1</td>\n",
       "      <td>160</td>\n",
       "      <td>M</td>\n",
       "      <td>13</td>\n",
       "      <td>43</td>\n",
       "      <td>nan</td>\n",
       "      <td>130</td>\n",
       "      <td>1</td>\n",
       "      <td>1</td>\n",
       "      <td>0</td>\n",
       "      <td>...</td>\n",
       "      <td>33000</td>\n",
       "      <td>0</td>\n",
       "      <td>1099866</td>\n",
       "      <td>0</td>\n",
       "      <td>1099866</td>\n",
       "      <td>15080</td>\n",
       "      <td>0</td>\n",
       "      <td>R</td>\n",
       "      <td>0</td>\n",
       "      <td>nan</td>\n",
       "    </tr>\n",
       "    <tr>\n",
       "      <th>2</th>\n",
       "      <td>2</td>\n",
       "      <td>160</td>\n",
       "      <td>H</td>\n",
       "      <td>13</td>\n",
       "      <td>46</td>\n",
       "      <td>143640</td>\n",
       "      <td>69</td>\n",
       "      <td>1</td>\n",
       "      <td>0</td>\n",
       "      <td>0</td>\n",
       "      <td>...</td>\n",
       "      <td>300000</td>\n",
       "      <td>0</td>\n",
       "      <td>214592</td>\n",
       "      <td>0</td>\n",
       "      <td>214592</td>\n",
       "      <td>83596</td>\n",
       "      <td>0</td>\n",
       "      <td>R</td>\n",
       "      <td>0</td>\n",
       "      <td>nan</td>\n",
       "    </tr>\n",
       "    <tr>\n",
       "      <th>3</th>\n",
       "      <td>3</td>\n",
       "      <td>170</td>\n",
       "      <td>H</td>\n",
       "      <td>13</td>\n",
       "      <td>45</td>\n",
       "      <td>929106</td>\n",
       "      <td>24</td>\n",
       "      <td>1</td>\n",
       "      <td>1</td>\n",
       "      <td>0</td>\n",
       "      <td>...</td>\n",
       "      <td>216676</td>\n",
       "      <td>0</td>\n",
       "      <td>0</td>\n",
       "      <td>0</td>\n",
       "      <td>7400</td>\n",
       "      <td>0</td>\n",
       "      <td>0</td>\n",
       "      <td>T</td>\n",
       "      <td>0</td>\n",
       "      <td>nan</td>\n",
       "    </tr>\n",
       "    <tr>\n",
       "      <th>4</th>\n",
       "      <td>4</td>\n",
       "      <td>151</td>\n",
       "      <td>H</td>\n",
       "      <td>13</td>\n",
       "      <td>46</td>\n",
       "      <td>172447</td>\n",
       "      <td>134</td>\n",
       "      <td>0</td>\n",
       "      <td>1</td>\n",
       "      <td>0</td>\n",
       "      <td>...</td>\n",
       "      <td>60000</td>\n",
       "      <td>0</td>\n",
       "      <td>272762</td>\n",
       "      <td>0</td>\n",
       "      <td>272762</td>\n",
       "      <td>10591</td>\n",
       "      <td>0</td>\n",
       "      <td>R</td>\n",
       "      <td>0</td>\n",
       "      <td>nan</td>\n",
       "    </tr>\n",
       "    <tr>\n",
       "      <th>...</th>\n",
       "      <td>...</td>\n",
       "      <td>...</td>\n",
       "      <td>...</td>\n",
       "      <td>...</td>\n",
       "      <td>...</td>\n",
       "      <td>...</td>\n",
       "      <td>...</td>\n",
       "      <td>...</td>\n",
       "      <td>...</td>\n",
       "      <td>...</td>\n",
       "      <td>...</td>\n",
       "      <td>...</td>\n",
       "      <td>...</td>\n",
       "      <td>...</td>\n",
       "      <td>...</td>\n",
       "      <td>...</td>\n",
       "      <td>...</td>\n",
       "      <td>...</td>\n",
       "      <td>...</td>\n",
       "      <td>...</td>\n",
       "      <td>...</td>\n",
       "    </tr>\n",
       "    <tr>\n",
       "      <th>51120</th>\n",
       "      <td>51120</td>\n",
       "      <td>160</td>\n",
       "      <td>H</td>\n",
       "      <td>13</td>\n",
       "      <td>51</td>\n",
       "      <td>364978</td>\n",
       "      <td>57</td>\n",
       "      <td>1</td>\n",
       "      <td>1</td>\n",
       "      <td>1</td>\n",
       "      <td>...</td>\n",
       "      <td>300000</td>\n",
       "      <td>0</td>\n",
       "      <td>478320</td>\n",
       "      <td>0</td>\n",
       "      <td>478320</td>\n",
       "      <td>12668</td>\n",
       "      <td>0</td>\n",
       "      <td>R</td>\n",
       "      <td>0</td>\n",
       "      <td>nan</td>\n",
       "    </tr>\n",
       "    <tr>\n",
       "      <th>51121</th>\n",
       "      <td>51121</td>\n",
       "      <td>170</td>\n",
       "      <td>H</td>\n",
       "      <td>13</td>\n",
       "      <td>51</td>\n",
       "      <td>625376</td>\n",
       "      <td>39</td>\n",
       "      <td>1</td>\n",
       "      <td>0</td>\n",
       "      <td>0</td>\n",
       "      <td>...</td>\n",
       "      <td>166098</td>\n",
       "      <td>0</td>\n",
       "      <td>166098</td>\n",
       "      <td>0</td>\n",
       "      <td>0</td>\n",
       "      <td>572363</td>\n",
       "      <td>0</td>\n",
       "      <td>R</td>\n",
       "      <td>0</td>\n",
       "      <td>nan</td>\n",
       "    </tr>\n",
       "    <tr>\n",
       "      <th>51122</th>\n",
       "      <td>51122</td>\n",
       "      <td>160</td>\n",
       "      <td>H</td>\n",
       "      <td>13</td>\n",
       "      <td>47</td>\n",
       "      <td>806220</td>\n",
       "      <td>153</td>\n",
       "      <td>1</td>\n",
       "      <td>1</td>\n",
       "      <td>0</td>\n",
       "      <td>...</td>\n",
       "      <td>18891</td>\n",
       "      <td>0</td>\n",
       "      <td>9652</td>\n",
       "      <td>0</td>\n",
       "      <td>9652</td>\n",
       "      <td>16241</td>\n",
       "      <td>0</td>\n",
       "      <td>R</td>\n",
       "      <td>0</td>\n",
       "      <td>nan</td>\n",
       "    </tr>\n",
       "    <tr>\n",
       "      <th>51123</th>\n",
       "      <td>51123</td>\n",
       "      <td>160</td>\n",
       "      <td>M</td>\n",
       "      <td>13</td>\n",
       "      <td>47</td>\n",
       "      <td>nan</td>\n",
       "      <td>11</td>\n",
       "      <td>1</td>\n",
       "      <td>0</td>\n",
       "      <td>0</td>\n",
       "      <td>...</td>\n",
       "      <td>26528</td>\n",
       "      <td>0</td>\n",
       "      <td>24638</td>\n",
       "      <td>0</td>\n",
       "      <td>24638</td>\n",
       "      <td>84982</td>\n",
       "      <td>0</td>\n",
       "      <td>R</td>\n",
       "      <td>0</td>\n",
       "      <td>nan</td>\n",
       "    </tr>\n",
       "    <tr>\n",
       "      <th>51124</th>\n",
       "      <td>51124</td>\n",
       "      <td>170</td>\n",
       "      <td>H</td>\n",
       "      <td>13</td>\n",
       "      <td>51</td>\n",
       "      <td>840878</td>\n",
       "      <td>75</td>\n",
       "      <td>1</td>\n",
       "      <td>1</td>\n",
       "      <td>0</td>\n",
       "      <td>...</td>\n",
       "      <td>12360</td>\n",
       "      <td>0</td>\n",
       "      <td>12360</td>\n",
       "      <td>0</td>\n",
       "      <td>18500</td>\n",
       "      <td>0</td>\n",
       "      <td>0</td>\n",
       "      <td>R</td>\n",
       "      <td>0</td>\n",
       "      <td>nan</td>\n",
       "    </tr>\n",
       "  </tbody>\n",
       "</table>\n",
       "<p>51125 rows × 575 columns</p>\n",
       "</div>"
      ],
      "text/plain": [
       "\n",
       "           \u001b[1;36m1\u001b[0m          \u001b[1;36m1.1\u001b[0m   \u001b[1;36m1.2\u001b[0m     \u001b[1;36m1.3\u001b[0m   \u001b[1;36m1.4\u001b[0m     \u001b[1;36m1.5\u001b[0m         \u001b[1;36m1.6\u001b[0m         \u001b[1;36m1.7\u001b[0m  \\\n",
       "\u001b[1;36m0\u001b[0m         Id  Subsegmento  Sexo  Region  Edad   Renta  Antiguedad  Internauta   \n",
       "\u001b[1;36m1\u001b[0m          \u001b[1;36m1\u001b[0m          \u001b[1;36m160\u001b[0m     M      \u001b[1;36m13\u001b[0m    \u001b[1;36m43\u001b[0m     nan         \u001b[1;36m130\u001b[0m           \u001b[1;36m1\u001b[0m   \n",
       "\u001b[1;36m2\u001b[0m          \u001b[1;36m2\u001b[0m          \u001b[1;36m160\u001b[0m     H      \u001b[1;36m13\u001b[0m    \u001b[1;36m46\u001b[0m  \u001b[1;36m143640\u001b[0m          \u001b[1;36m69\u001b[0m           \u001b[1;36m1\u001b[0m   \n",
       "\u001b[1;36m3\u001b[0m          \u001b[1;36m3\u001b[0m          \u001b[1;36m170\u001b[0m     H      \u001b[1;36m13\u001b[0m    \u001b[1;36m45\u001b[0m  \u001b[1;36m929106\u001b[0m          \u001b[1;36m24\u001b[0m           \u001b[1;36m1\u001b[0m   \n",
       "\u001b[1;36m4\u001b[0m          \u001b[1;36m4\u001b[0m          \u001b[1;36m151\u001b[0m     H      \u001b[1;36m13\u001b[0m    \u001b[1;36m46\u001b[0m  \u001b[1;36m172447\u001b[0m         \u001b[1;36m134\u001b[0m           \u001b[1;36m0\u001b[0m   \n",
       "\u001b[33m...\u001b[0m      \u001b[33m...\u001b[0m          \u001b[33m...\u001b[0m   \u001b[33m...\u001b[0m     \u001b[33m...\u001b[0m   \u001b[33m...\u001b[0m     \u001b[33m...\u001b[0m         \u001b[33m...\u001b[0m         \u001b[33m...\u001b[0m   \n",
       "\u001b[1;36m51120\u001b[0m  \u001b[1;36m51120\u001b[0m          \u001b[1;36m160\u001b[0m     H      \u001b[1;36m13\u001b[0m    \u001b[1;36m51\u001b[0m  \u001b[1;36m364978\u001b[0m          \u001b[1;36m57\u001b[0m           \u001b[1;36m1\u001b[0m   \n",
       "\u001b[1;36m51121\u001b[0m  \u001b[1;36m51121\u001b[0m          \u001b[1;36m170\u001b[0m     H      \u001b[1;36m13\u001b[0m    \u001b[1;36m51\u001b[0m  \u001b[1;36m625376\u001b[0m          \u001b[1;36m39\u001b[0m           \u001b[1;36m1\u001b[0m   \n",
       "\u001b[1;36m51122\u001b[0m  \u001b[1;36m51122\u001b[0m          \u001b[1;36m160\u001b[0m     H      \u001b[1;36m13\u001b[0m    \u001b[1;36m47\u001b[0m  \u001b[1;36m806220\u001b[0m         \u001b[1;36m153\u001b[0m           \u001b[1;36m1\u001b[0m   \n",
       "\u001b[1;36m51123\u001b[0m  \u001b[1;36m51123\u001b[0m          \u001b[1;36m160\u001b[0m     M      \u001b[1;36m13\u001b[0m    \u001b[1;36m47\u001b[0m     nan          \u001b[1;36m11\u001b[0m           \u001b[1;36m1\u001b[0m   \n",
       "\u001b[1;36m51124\u001b[0m  \u001b[1;36m51124\u001b[0m          \u001b[1;36m170\u001b[0m     H      \u001b[1;36m13\u001b[0m    \u001b[1;36m51\u001b[0m  \u001b[1;36m840878\u001b[0m          \u001b[1;36m75\u001b[0m           \u001b[1;36m1\u001b[0m   \n",
       "\n",
       "             \u001b[1;36m1.8\u001b[0m       \u001b[1;36m1.9\u001b[0m  \u001b[33m...\u001b[0m        \u001b[1;36m1.565\u001b[0m        \u001b[1;36m1.566\u001b[0m        \u001b[1;36m1.567\u001b[0m  \\\n",
       "\u001b[1;36m0\u001b[0m      Adicional  Dualidad  \u001b[33m...\u001b[0m  PagoNac_T01  PagoInt_T01  EeccNac_T01   \n",
       "\u001b[1;36m1\u001b[0m              \u001b[1;36m1\u001b[0m         \u001b[1;36m0\u001b[0m  \u001b[33m...\u001b[0m        \u001b[1;36m33000\u001b[0m            \u001b[1;36m0\u001b[0m      \u001b[1;36m1099866\u001b[0m   \n",
       "\u001b[1;36m2\u001b[0m              \u001b[1;36m0\u001b[0m         \u001b[1;36m0\u001b[0m  \u001b[33m...\u001b[0m       \u001b[1;36m300000\u001b[0m            \u001b[1;36m0\u001b[0m       \u001b[1;36m214592\u001b[0m   \n",
       "\u001b[1;36m3\u001b[0m              \u001b[1;36m1\u001b[0m         \u001b[1;36m0\u001b[0m  \u001b[33m...\u001b[0m       \u001b[1;36m216676\u001b[0m            \u001b[1;36m0\u001b[0m            \u001b[1;36m0\u001b[0m   \n",
       "\u001b[1;36m4\u001b[0m              \u001b[1;36m1\u001b[0m         \u001b[1;36m0\u001b[0m  \u001b[33m...\u001b[0m        \u001b[1;36m60000\u001b[0m            \u001b[1;36m0\u001b[0m       \u001b[1;36m272762\u001b[0m   \n",
       "\u001b[33m...\u001b[0m          \u001b[33m...\u001b[0m       \u001b[33m...\u001b[0m  \u001b[33m...\u001b[0m          \u001b[33m...\u001b[0m          \u001b[33m...\u001b[0m          \u001b[33m...\u001b[0m   \n",
       "\u001b[1;36m51120\u001b[0m          \u001b[1;36m1\u001b[0m         \u001b[1;36m1\u001b[0m  \u001b[33m...\u001b[0m       \u001b[1;36m300000\u001b[0m            \u001b[1;36m0\u001b[0m       \u001b[1;36m478320\u001b[0m   \n",
       "\u001b[1;36m51121\u001b[0m          \u001b[1;36m0\u001b[0m         \u001b[1;36m0\u001b[0m  \u001b[33m...\u001b[0m       \u001b[1;36m166098\u001b[0m            \u001b[1;36m0\u001b[0m       \u001b[1;36m166098\u001b[0m   \n",
       "\u001b[1;36m51122\u001b[0m          \u001b[1;36m1\u001b[0m         \u001b[1;36m0\u001b[0m  \u001b[33m...\u001b[0m        \u001b[1;36m18891\u001b[0m            \u001b[1;36m0\u001b[0m         \u001b[1;36m9652\u001b[0m   \n",
       "\u001b[1;36m51123\u001b[0m          \u001b[1;36m0\u001b[0m         \u001b[1;36m0\u001b[0m  \u001b[33m...\u001b[0m        \u001b[1;36m26528\u001b[0m            \u001b[1;36m0\u001b[0m        \u001b[1;36m24638\u001b[0m   \n",
       "\u001b[1;36m51124\u001b[0m          \u001b[1;36m1\u001b[0m         \u001b[1;36m0\u001b[0m  \u001b[33m...\u001b[0m        \u001b[1;36m12360\u001b[0m            \u001b[1;36m0\u001b[0m        \u001b[1;36m12360\u001b[0m   \n",
       "\n",
       "             \u001b[1;36m1.568\u001b[0m      \u001b[1;36m1.569\u001b[0m      \u001b[1;36m1.570\u001b[0m      \u001b[1;36m1.571\u001b[0m       \u001b[1;36m1.572\u001b[0m   \u001b[1;36m1.573\u001b[0m  \u001b[1;36m574\u001b[0m  \n",
       "\u001b[1;36m0\u001b[0m      EeccInt_T01  UsoL1_T01  UsoL2_T01  UsoLI_T01  IndRev_T01  target  nan  \n",
       "\u001b[1;36m1\u001b[0m                \u001b[1;36m0\u001b[0m    \u001b[1;36m1099866\u001b[0m      \u001b[1;36m15080\u001b[0m          \u001b[1;36m0\u001b[0m           R       \u001b[1;36m0\u001b[0m  nan  \n",
       "\u001b[1;36m2\u001b[0m                \u001b[1;36m0\u001b[0m     \u001b[1;36m214592\u001b[0m      \u001b[1;36m83596\u001b[0m          \u001b[1;36m0\u001b[0m           R       \u001b[1;36m0\u001b[0m  nan  \n",
       "\u001b[1;36m3\u001b[0m                \u001b[1;36m0\u001b[0m       \u001b[1;36m7400\u001b[0m          \u001b[1;36m0\u001b[0m          \u001b[1;36m0\u001b[0m           T       \u001b[1;36m0\u001b[0m  nan  \n",
       "\u001b[1;36m4\u001b[0m                \u001b[1;36m0\u001b[0m     \u001b[1;36m272762\u001b[0m      \u001b[1;36m10591\u001b[0m          \u001b[1;36m0\u001b[0m           R       \u001b[1;36m0\u001b[0m  nan  \n",
       "\u001b[33m...\u001b[0m            \u001b[33m...\u001b[0m        \u001b[33m...\u001b[0m        \u001b[33m...\u001b[0m        \u001b[33m...\u001b[0m         \u001b[33m...\u001b[0m     \u001b[33m...\u001b[0m  \u001b[33m...\u001b[0m  \n",
       "\u001b[1;36m51120\u001b[0m            \u001b[1;36m0\u001b[0m     \u001b[1;36m478320\u001b[0m      \u001b[1;36m12668\u001b[0m          \u001b[1;36m0\u001b[0m           R       \u001b[1;36m0\u001b[0m  nan  \n",
       "\u001b[1;36m51121\u001b[0m            \u001b[1;36m0\u001b[0m          \u001b[1;36m0\u001b[0m     \u001b[1;36m572363\u001b[0m          \u001b[1;36m0\u001b[0m           R       \u001b[1;36m0\u001b[0m  nan  \n",
       "\u001b[1;36m51122\u001b[0m            \u001b[1;36m0\u001b[0m       \u001b[1;36m9652\u001b[0m      \u001b[1;36m16241\u001b[0m          \u001b[1;36m0\u001b[0m           R       \u001b[1;36m0\u001b[0m  nan  \n",
       "\u001b[1;36m51123\u001b[0m            \u001b[1;36m0\u001b[0m      \u001b[1;36m24638\u001b[0m      \u001b[1;36m84982\u001b[0m          \u001b[1;36m0\u001b[0m           R       \u001b[1;36m0\u001b[0m  nan  \n",
       "\u001b[1;36m51124\u001b[0m            \u001b[1;36m0\u001b[0m      \u001b[1;36m18500\u001b[0m          \u001b[1;36m0\u001b[0m          \u001b[1;36m0\u001b[0m           R       \u001b[1;36m0\u001b[0m  nan  \n",
       "\n",
       "\u001b[1m[\u001b[0m\u001b[1;36m51125\u001b[0m rows x \u001b[1;36m575\u001b[0m columns\u001b[1m]\u001b[0m"
      ]
     },
     "execution_count": 8,
     "metadata": {},
     "output_type": "execute_result"
    }
   ],
   "source": [
    "df.head(55127)"
   ]
  },
  {
   "cell_type": "code",
   "execution_count": null,
   "id": "cc6dd23e-767b-48c7-97aa-fcc74495516d",
   "metadata": {},
   "outputs": [],
   "source": []
  }
 ],
 "metadata": {
  "kernelspec": {
   "display_name": "Python 3 (ipykernel)",
   "language": "python",
   "name": "python3"
  },
  "language_info": {
   "codemirror_mode": {
    "name": "ipython",
    "version": 3
   },
   "file_extension": ".py",
   "mimetype": "text/x-python",
   "name": "python",
   "nbconvert_exporter": "python",
   "pygments_lexer": "ipython3",
   "version": "3.12.4"
  }
 },
 "nbformat": 4,
 "nbformat_minor": 5
}
