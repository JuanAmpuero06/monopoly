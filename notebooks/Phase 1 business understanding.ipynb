{
 "cells": [
  {
   "cell_type": "markdown",
   "id": "f338984c-ef01-41b5-b924-c21fc44dce88",
   "metadata": {},
   "source": [
    "---\n",
    "\n",
    "### **Business Objectives**\n",
    "\n",
    "1. **Desarrollar un modelo predictivo** que identifique a los clientes con mayor riesgo de abandono de productos o servicios financieros basándose en patrones y factores de comportamiento en los datos de uso financiero.\n",
    "2. **Proporcionar herramientas analíticas** que permitan detectar de forma temprana el riesgo de pérdida de clientes, ayudando a los equipos comerciales y de fidelización a intervenir de manera proactiva.\n",
    "3. **Mejorar la efectividad de las estrategias de retención** mediante predicciones basadas en datos, reduciendo la carga de trabajo y aumentando la precisión en la identificación de casos críticos de abandono.\n",
    "4. **Contribuir a la optimización comercial** apoyando los esfuerzos de fidelización y aumentando la satisfacción del cliente mediante la implementación de sistemas predictivos en el contexto financiero y de servicios.\n",
    "\n",
    "---\n",
    "\n",
    "### **Project Scope**\n",
    "\n",
    "**In Scope:**\n",
    "\n",
    "- Análisis y procesamiento de datos financieros y de comportamiento existentes.\n",
    "- Desarrollo y evaluación de modelos predictivos utilizando técnicas de machine learning.\n",
    "- Implementación de un sistema de alertas tempranas basado en predicciones.\n",
    "\n",
    "**Out of Scope:**\n",
    "\n",
    "- Recopilación de nuevos datos de clientes.\n",
    "- Intervención directa con clientes en riesgo (el proyecto se enfoca en predicción, no intervención).\n",
    "- Evaluación en entornos reales de modelos (esto podría formar parte de una futura fase del proyecto).\n",
    "\n",
    "---\n",
    "\n",
    "### **Success Criteria**\n",
    "\n",
    "- **Precisión del Modelo**: El modelo predictivo debe alcanzar al menos un 80% de precisión en la identificación de clientes con riesgo de abandono.\n",
    "- **Implementabilidad**: El sistema debe ser fácilmente integrable en las plataformas tecnológicas existentes usadas por los equipos de atención al cliente.\n",
    "- **Impacto Social y Comercial**: El proyecto debe demostrar potencial para un impacto positivo en la reducción de la tasa de abandono de clientes y la mejora de la retención.\n",
    "\n",
    "---\n",
    "\n",
    "### **Ethical and Privacy Considerations**\n",
    "\n",
    "- **Confidencialidad de Datos**: Asegurar que los datos utilizados en el proyecto se manejen de acuerdo con las regulaciones de protección de datos y privacidad.\n",
    "- **Uso Responsable del Modelo**: Garantizar el uso ético del modelo predictivo, evitando decisiones automáticas sin intervención humana en contextos críticos.\n",
    "- **Consentimiento Informado**: Asegurarse de que, si se aplican datos sensibles, se haya obtenido el consentimiento informado de los clientes.\n",
    "\n",
    "---\n",
    "\n",
    "### **Business Questions**\n",
    "\n",
    "1. **¿Cuál es la distribución por género y la cantidad total de individuos en cada categoría de subsegmento?**\n",
    "2. **¿Cuál es la distribución por región y la cantidad total de clientes en cada subsegmento?**\n",
    "3. **¿Cuál es el nivel de interés en productos financieros y cuántos clientes presentan categorías de alto, medio o bajo interés?**\n",
    "4. **¿Cómo varían las transacciones de consumo en función de la antigüedad de los clientes, y cuál es la distribución de niveles de gasto en cada rango de antigüedad?**\n",
    "5. **¿Cuál es la relación entre variables numéricas clave como antigüedad, consumo y uso de productos financieros?**\n",
    "6. **¿Cómo se distribuyen las transacciones de los clientes en función de su antigüedad?**\n"
   ]
  },
  {
   "cell_type": "code",
   "execution_count": null,
   "id": "416a06f7-1741-48b5-818c-3c5d5e2291cb",
   "metadata": {},
   "outputs": [],
   "source": []
  }
 ],
 "metadata": {
  "kernelspec": {
   "display_name": "Python 3 (ipykernel)",
   "language": "python",
   "name": "python3"
  },
  "language_info": {
   "codemirror_mode": {
    "name": "ipython",
    "version": 3
   },
   "file_extension": ".py",
   "mimetype": "text/x-python",
   "name": "python",
   "nbconvert_exporter": "python",
   "pygments_lexer": "ipython3",
   "version": "3.11.5"
  }
 },
 "nbformat": 4,
 "nbformat_minor": 5
}
