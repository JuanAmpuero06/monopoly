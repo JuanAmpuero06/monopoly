{
 "cells": [
  {
   "cell_type": "code",
   "execution_count": 2,
   "id": "06ecfb46-fff6-4680-8a60-1f980b1d6062",
   "metadata": {},
   "outputs": [
    {
     "data": {
      "text/html": [
       "<pre style=\"white-space:pre;overflow-x:auto;line-height:normal;font-family:Menlo,'DejaVu Sans Mono',consolas,'Courier New',monospace\"><span style=\"color: #7fbfbf; text-decoration-color: #7fbfbf\">[11/18/24 10:16:42] </span><span style=\"color: #000080; text-decoration-color: #000080\">INFO    </span> Using                                                                  <a href=\"file://C:\\Users\\jampu\\OneDrive\\Desktop\\EX_Monopoly\\venv\\Lib\\site-packages\\kedro\\framework\\project\\__init__.py\" target=\"_blank\"><span style=\"color: #7f7f7f; text-decoration-color: #7f7f7f\">__init__.py</span></a><span style=\"color: #7f7f7f; text-decoration-color: #7f7f7f\">:</span><a href=\"file://C:\\Users\\jampu\\OneDrive\\Desktop\\EX_Monopoly\\venv\\Lib\\site-packages\\kedro\\framework\\project\\__init__.py#270\" target=\"_blank\"><span style=\"color: #7f7f7f; text-decoration-color: #7f7f7f\">270</span></a>\n",
       "<span style=\"color: #7fbfbf; text-decoration-color: #7fbfbf\">                    </span>         <span style=\"color: #008000; text-decoration-color: #008000\">'C:\\Users\\jampu\\OneDrive\\Desktop\\EX_Monopoly\\venv\\Lib\\site-packages\\ke</span> <span style=\"color: #7f7f7f; text-decoration-color: #7f7f7f\">               </span>\n",
       "<span style=\"color: #7fbfbf; text-decoration-color: #7fbfbf\">                    </span>         <span style=\"color: #008000; text-decoration-color: #008000\">dro\\framework\\project\\rich_logging.yml'</span> as logging configuration.      <span style=\"color: #7f7f7f; text-decoration-color: #7f7f7f\">               </span>\n",
       "</pre>\n"
      ],
      "text/plain": [
       "\u001b[2;36m[11/18/24 10:16:42]\u001b[0m\u001b[2;36m \u001b[0m\u001b[34mINFO    \u001b[0m Using                                                                  \u001b]8;id=961729;file://C:\\Users\\jampu\\OneDrive\\Desktop\\EX_Monopoly\\venv\\Lib\\site-packages\\kedro\\framework\\project\\__init__.py\u001b\\\u001b[2m__init__.py\u001b[0m\u001b]8;;\u001b\\\u001b[2m:\u001b[0m\u001b]8;id=489948;file://C:\\Users\\jampu\\OneDrive\\Desktop\\EX_Monopoly\\venv\\Lib\\site-packages\\kedro\\framework\\project\\__init__.py#270\u001b\\\u001b[2m270\u001b[0m\u001b]8;;\u001b\\\n",
       "\u001b[2;36m                    \u001b[0m         \u001b[32m'C:\\Users\\jampu\\OneDrive\\Desktop\\EX_Monopoly\\venv\\Lib\\site-packages\\ke\u001b[0m \u001b[2m               \u001b[0m\n",
       "\u001b[2;36m                    \u001b[0m         \u001b[32mdro\\framework\\project\\rich_logging.yml'\u001b[0m as logging configuration.      \u001b[2m               \u001b[0m\n"
      ]
     },
     "metadata": {},
     "output_type": "display_data"
    },
    {
     "data": {
      "text/html": [
       "<pre style=\"white-space:pre;overflow-x:auto;line-height:normal;font-family:Menlo,'DejaVu Sans Mono',consolas,'Courier New',monospace\"><span style=\"color: #7fbfbf; text-decoration-color: #7fbfbf\">                    </span><span style=\"color: #000080; text-decoration-color: #000080\">INFO    </span> Registered line magic <span style=\"color: #008000; text-decoration-color: #008000\">'%reload_kedro'</span>                                   <a href=\"file://C:\\Users\\jampu\\OneDrive\\Desktop\\EX_Monopoly\\venv\\Lib\\site-packages\\kedro\\ipython\\__init__.py\" target=\"_blank\"><span style=\"color: #7f7f7f; text-decoration-color: #7f7f7f\">__init__.py</span></a><span style=\"color: #7f7f7f; text-decoration-color: #7f7f7f\">:</span><a href=\"file://C:\\Users\\jampu\\OneDrive\\Desktop\\EX_Monopoly\\venv\\Lib\\site-packages\\kedro\\ipython\\__init__.py#61\" target=\"_blank\"><span style=\"color: #7f7f7f; text-decoration-color: #7f7f7f\">61</span></a>\n",
       "</pre>\n"
      ],
      "text/plain": [
       "\u001b[2;36m                   \u001b[0m\u001b[2;36m \u001b[0m\u001b[34mINFO    \u001b[0m Registered line magic \u001b[32m'%reload_kedro'\u001b[0m                                   \u001b]8;id=109792;file://C:\\Users\\jampu\\OneDrive\\Desktop\\EX_Monopoly\\venv\\Lib\\site-packages\\kedro\\ipython\\__init__.py\u001b\\\u001b[2m__init__.py\u001b[0m\u001b]8;;\u001b\\\u001b[2m:\u001b[0m\u001b]8;id=19266;file://C:\\Users\\jampu\\OneDrive\\Desktop\\EX_Monopoly\\venv\\Lib\\site-packages\\kedro\\ipython\\__init__.py#61\u001b\\\u001b[2m61\u001b[0m\u001b]8;;\u001b\\\n"
      ]
     },
     "metadata": {},
     "output_type": "display_data"
    },
    {
     "data": {
      "text/html": [
       "<pre style=\"white-space:pre;overflow-x:auto;line-height:normal;font-family:Menlo,'DejaVu Sans Mono',consolas,'Courier New',monospace\"><span style=\"color: #7fbfbf; text-decoration-color: #7fbfbf\">                    </span><span style=\"color: #000080; text-decoration-color: #000080\">INFO    </span> Registered line magic <span style=\"color: #008000; text-decoration-color: #008000\">'%load_node'</span>                                      <a href=\"file://C:\\Users\\jampu\\OneDrive\\Desktop\\EX_Monopoly\\venv\\Lib\\site-packages\\kedro\\ipython\\__init__.py\" target=\"_blank\"><span style=\"color: #7f7f7f; text-decoration-color: #7f7f7f\">__init__.py</span></a><span style=\"color: #7f7f7f; text-decoration-color: #7f7f7f\">:</span><a href=\"file://C:\\Users\\jampu\\OneDrive\\Desktop\\EX_Monopoly\\venv\\Lib\\site-packages\\kedro\\ipython\\__init__.py#63\" target=\"_blank\"><span style=\"color: #7f7f7f; text-decoration-color: #7f7f7f\">63</span></a>\n",
       "</pre>\n"
      ],
      "text/plain": [
       "\u001b[2;36m                   \u001b[0m\u001b[2;36m \u001b[0m\u001b[34mINFO    \u001b[0m Registered line magic \u001b[32m'%load_node'\u001b[0m                                      \u001b]8;id=717785;file://C:\\Users\\jampu\\OneDrive\\Desktop\\EX_Monopoly\\venv\\Lib\\site-packages\\kedro\\ipython\\__init__.py\u001b\\\u001b[2m__init__.py\u001b[0m\u001b]8;;\u001b\\\u001b[2m:\u001b[0m\u001b]8;id=829198;file://C:\\Users\\jampu\\OneDrive\\Desktop\\EX_Monopoly\\venv\\Lib\\site-packages\\kedro\\ipython\\__init__.py#63\u001b\\\u001b[2m63\u001b[0m\u001b]8;;\u001b\\\n"
      ]
     },
     "metadata": {},
     "output_type": "display_data"
    },
    {
     "data": {
      "text/html": [
       "<pre style=\"white-space:pre;overflow-x:auto;line-height:normal;font-family:Menlo,'DejaVu Sans Mono',consolas,'Courier New',monospace\"><span style=\"color: #7fbfbf; text-decoration-color: #7fbfbf\">                    </span><span style=\"color: #000080; text-decoration-color: #000080\">INFO    </span> Resolved project path as:                                              <a href=\"file://C:\\Users\\jampu\\OneDrive\\Desktop\\EX_Monopoly\\venv\\Lib\\site-packages\\kedro\\ipython\\__init__.py\" target=\"_blank\"><span style=\"color: #7f7f7f; text-decoration-color: #7f7f7f\">__init__.py</span></a><span style=\"color: #7f7f7f; text-decoration-color: #7f7f7f\">:</span><a href=\"file://C:\\Users\\jampu\\OneDrive\\Desktop\\EX_Monopoly\\venv\\Lib\\site-packages\\kedro\\ipython\\__init__.py#178\" target=\"_blank\"><span style=\"color: #7f7f7f; text-decoration-color: #7f7f7f\">178</span></a>\n",
       "<span style=\"color: #7fbfbf; text-decoration-color: #7fbfbf\">                    </span>         C:\\Users\\jampu\\OneDrive\\Desktop\\EX_Monopoly\\monopoly.                  <span style=\"color: #7f7f7f; text-decoration-color: #7f7f7f\">               </span>\n",
       "<span style=\"color: #7fbfbf; text-decoration-color: #7fbfbf\">                    </span>         To set a different path, run <span style=\"color: #008000; text-decoration-color: #008000\">'%reload_kedro &lt;project_root&gt;'</span>            <span style=\"color: #7f7f7f; text-decoration-color: #7f7f7f\">               </span>\n",
       "</pre>\n"
      ],
      "text/plain": [
       "\u001b[2;36m                   \u001b[0m\u001b[2;36m \u001b[0m\u001b[34mINFO    \u001b[0m Resolved project path as:                                              \u001b]8;id=386889;file://C:\\Users\\jampu\\OneDrive\\Desktop\\EX_Monopoly\\venv\\Lib\\site-packages\\kedro\\ipython\\__init__.py\u001b\\\u001b[2m__init__.py\u001b[0m\u001b]8;;\u001b\\\u001b[2m:\u001b[0m\u001b]8;id=163153;file://C:\\Users\\jampu\\OneDrive\\Desktop\\EX_Monopoly\\venv\\Lib\\site-packages\\kedro\\ipython\\__init__.py#178\u001b\\\u001b[2m178\u001b[0m\u001b]8;;\u001b\\\n",
       "\u001b[2;36m                    \u001b[0m         C:\\Users\\jampu\\OneDrive\\Desktop\\EX_Monopoly\\monopoly.                  \u001b[2m               \u001b[0m\n",
       "\u001b[2;36m                    \u001b[0m         To set a different path, run \u001b[32m'%reload_kedro \u001b[0m\u001b[32m<\u001b[0m\u001b[32mproject_root\u001b[0m\u001b[32m>\u001b[0m\u001b[32m'\u001b[0m            \u001b[2m               \u001b[0m\n"
      ]
     },
     "metadata": {},
     "output_type": "display_data"
    },
    {
     "data": {
      "text/html": [
       "<pre style=\"white-space:pre;overflow-x:auto;line-height:normal;font-family:Menlo,'DejaVu Sans Mono',consolas,'Courier New',monospace\"><span style=\"color: #7fbfbf; text-decoration-color: #7fbfbf\">                    </span><span style=\"color: #808000; text-decoration-color: #808000\">WARNING </span> C:\\Users\\jampu\\OneDrive\\Desktop\\EX_Monopoly\\venv\\Lib\\site-packages\\ked <a href=\"file://C:\\Users\\jampu\\AppData\\Local\\Programs\\Python\\Python312\\Lib\\warnings.py\" target=\"_blank\"><span style=\"color: #7f7f7f; text-decoration-color: #7f7f7f\">warnings.py</span></a><span style=\"color: #7f7f7f; text-decoration-color: #7f7f7f\">:</span><a href=\"file://C:\\Users\\jampu\\AppData\\Local\\Programs\\Python\\Python312\\Lib\\warnings.py#112\" target=\"_blank\"><span style=\"color: #7f7f7f; text-decoration-color: #7f7f7f\">112</span></a>\n",
       "<span style=\"color: #7fbfbf; text-decoration-color: #7fbfbf\">                    </span>         ro_viz\\__init__.py:<span style=\"color: #008080; text-decoration-color: #008080; font-weight: bold\">13</span>: KedroVizPythonVersionWarning: Please be advised <span style=\"color: #7f7f7f; text-decoration-color: #7f7f7f\">               </span>\n",
       "<span style=\"color: #7fbfbf; text-decoration-color: #7fbfbf\">                    </span>         that Kedro Viz is not yet fully                                        <span style=\"color: #7f7f7f; text-decoration-color: #7f7f7f\">               </span>\n",
       "<span style=\"color: #7fbfbf; text-decoration-color: #7fbfbf\">                    </span>                 compatible with the Python version you are currently using.    <span style=\"color: #7f7f7f; text-decoration-color: #7f7f7f\">               </span>\n",
       "<span style=\"color: #7fbfbf; text-decoration-color: #7fbfbf\">                    </span>           <span style=\"color: #800080; text-decoration-color: #800080; font-weight: bold\">warnings.warn</span><span style=\"font-weight: bold\">(</span>                                                       <span style=\"color: #7f7f7f; text-decoration-color: #7f7f7f\">               </span>\n",
       "<span style=\"color: #7fbfbf; text-decoration-color: #7fbfbf\">                    </span>                                                                                <span style=\"color: #7f7f7f; text-decoration-color: #7f7f7f\">               </span>\n",
       "</pre>\n"
      ],
      "text/plain": [
       "\u001b[2;36m                   \u001b[0m\u001b[2;36m \u001b[0m\u001b[33mWARNING \u001b[0m C:\\Users\\jampu\\OneDrive\\Desktop\\EX_Monopoly\\venv\\Lib\\site-packages\\ked \u001b]8;id=664908;file://C:\\Users\\jampu\\AppData\\Local\\Programs\\Python\\Python312\\Lib\\warnings.py\u001b\\\u001b[2mwarnings.py\u001b[0m\u001b]8;;\u001b\\\u001b[2m:\u001b[0m\u001b]8;id=186572;file://C:\\Users\\jampu\\AppData\\Local\\Programs\\Python\\Python312\\Lib\\warnings.py#112\u001b\\\u001b[2m112\u001b[0m\u001b]8;;\u001b\\\n",
       "\u001b[2;36m                    \u001b[0m         ro_viz\\__init__.py:\u001b[1;36m13\u001b[0m: KedroVizPythonVersionWarning: Please be advised \u001b[2m               \u001b[0m\n",
       "\u001b[2;36m                    \u001b[0m         that Kedro Viz is not yet fully                                        \u001b[2m               \u001b[0m\n",
       "\u001b[2;36m                    \u001b[0m                 compatible with the Python version you are currently using.    \u001b[2m               \u001b[0m\n",
       "\u001b[2;36m                    \u001b[0m           \u001b[1;35mwarnings.warn\u001b[0m\u001b[1m(\u001b[0m                                                       \u001b[2m               \u001b[0m\n",
       "\u001b[2;36m                    \u001b[0m                                                                                \u001b[2m               \u001b[0m\n"
      ]
     },
     "metadata": {},
     "output_type": "display_data"
    },
    {
     "data": {
      "text/html": [
       "<pre style=\"white-space:pre;overflow-x:auto;line-height:normal;font-family:Menlo,'DejaVu Sans Mono',consolas,'Courier New',monospace\"><span style=\"color: #7fbfbf; text-decoration-color: #7fbfbf\">[11/18/24 10:16:44] </span><span style=\"color: #000080; text-decoration-color: #000080\">INFO    </span> Kedro is sending anonymous usage data with the sole purpose of improving <a href=\"file://C:\\Users\\jampu\\OneDrive\\Desktop\\EX_Monopoly\\venv\\Lib\\site-packages\\kedro_telemetry\\plugin.py\" target=\"_blank\"><span style=\"color: #7f7f7f; text-decoration-color: #7f7f7f\">plugin.py</span></a><span style=\"color: #7f7f7f; text-decoration-color: #7f7f7f\">:</span><a href=\"file://C:\\Users\\jampu\\OneDrive\\Desktop\\EX_Monopoly\\venv\\Lib\\site-packages\\kedro_telemetry\\plugin.py#233\" target=\"_blank\"><span style=\"color: #7f7f7f; text-decoration-color: #7f7f7f\">233</span></a>\n",
       "<span style=\"color: #7fbfbf; text-decoration-color: #7fbfbf\">                    </span>         the product. No personal data or IP addresses are stored on our side. If <span style=\"color: #7f7f7f; text-decoration-color: #7f7f7f\">             </span>\n",
       "<span style=\"color: #7fbfbf; text-decoration-color: #7fbfbf\">                    </span>         you want to opt out, set the `KEDRO_DISABLE_TELEMETRY` or `DO_NOT_TRACK` <span style=\"color: #7f7f7f; text-decoration-color: #7f7f7f\">             </span>\n",
       "<span style=\"color: #7fbfbf; text-decoration-color: #7fbfbf\">                    </span>         environment variables, or create a `.telemetry` file in the current      <span style=\"color: #7f7f7f; text-decoration-color: #7f7f7f\">             </span>\n",
       "<span style=\"color: #7fbfbf; text-decoration-color: #7fbfbf\">                    </span>         working directory with the contents `consent: false`. Read more at       <span style=\"color: #7f7f7f; text-decoration-color: #7f7f7f\">             </span>\n",
       "<span style=\"color: #7fbfbf; text-decoration-color: #7fbfbf\">                    </span>         <span style=\"color: #0000ff; text-decoration-color: #0000ff; text-decoration: underline\">https://docs.kedro.org/en/stable/configuration/telemetry.html</span>            <span style=\"color: #7f7f7f; text-decoration-color: #7f7f7f\">             </span>\n",
       "</pre>\n"
      ],
      "text/plain": [
       "\u001b[2;36m[11/18/24 10:16:44]\u001b[0m\u001b[2;36m \u001b[0m\u001b[34mINFO    \u001b[0m Kedro is sending anonymous usage data with the sole purpose of improving \u001b]8;id=825875;file://C:\\Users\\jampu\\OneDrive\\Desktop\\EX_Monopoly\\venv\\Lib\\site-packages\\kedro_telemetry\\plugin.py\u001b\\\u001b[2mplugin.py\u001b[0m\u001b]8;;\u001b\\\u001b[2m:\u001b[0m\u001b]8;id=810078;file://C:\\Users\\jampu\\OneDrive\\Desktop\\EX_Monopoly\\venv\\Lib\\site-packages\\kedro_telemetry\\plugin.py#233\u001b\\\u001b[2m233\u001b[0m\u001b]8;;\u001b\\\n",
       "\u001b[2;36m                    \u001b[0m         the product. No personal data or IP addresses are stored on our side. If \u001b[2m             \u001b[0m\n",
       "\u001b[2;36m                    \u001b[0m         you want to opt out, set the `KEDRO_DISABLE_TELEMETRY` or `DO_NOT_TRACK` \u001b[2m             \u001b[0m\n",
       "\u001b[2;36m                    \u001b[0m         environment variables, or create a `.telemetry` file in the current      \u001b[2m             \u001b[0m\n",
       "\u001b[2;36m                    \u001b[0m         working directory with the contents `consent: false`. Read more at       \u001b[2m             \u001b[0m\n",
       "\u001b[2;36m                    \u001b[0m         \u001b[4;94mhttps://docs.kedro.org/en/stable/configuration/telemetry.html\u001b[0m            \u001b[2m             \u001b[0m\n"
      ]
     },
     "metadata": {},
     "output_type": "display_data"
    },
    {
     "data": {
      "text/html": [
       "<pre style=\"white-space:pre;overflow-x:auto;line-height:normal;font-family:Menlo,'DejaVu Sans Mono',consolas,'Courier New',monospace\"><span style=\"color: #7fbfbf; text-decoration-color: #7fbfbf\">[11/18/24 10:16:45] </span><span style=\"color: #000080; text-decoration-color: #000080\">INFO    </span> Kedro project Monopoly                                                 <a href=\"file://C:\\Users\\jampu\\OneDrive\\Desktop\\EX_Monopoly\\venv\\Lib\\site-packages\\kedro\\ipython\\__init__.py\" target=\"_blank\"><span style=\"color: #7f7f7f; text-decoration-color: #7f7f7f\">__init__.py</span></a><span style=\"color: #7f7f7f; text-decoration-color: #7f7f7f\">:</span><a href=\"file://C:\\Users\\jampu\\OneDrive\\Desktop\\EX_Monopoly\\venv\\Lib\\site-packages\\kedro\\ipython\\__init__.py#144\" target=\"_blank\"><span style=\"color: #7f7f7f; text-decoration-color: #7f7f7f\">144</span></a>\n",
       "</pre>\n"
      ],
      "text/plain": [
       "\u001b[2;36m[11/18/24 10:16:45]\u001b[0m\u001b[2;36m \u001b[0m\u001b[34mINFO    \u001b[0m Kedro project Monopoly                                                 \u001b]8;id=730376;file://C:\\Users\\jampu\\OneDrive\\Desktop\\EX_Monopoly\\venv\\Lib\\site-packages\\kedro\\ipython\\__init__.py\u001b\\\u001b[2m__init__.py\u001b[0m\u001b]8;;\u001b\\\u001b[2m:\u001b[0m\u001b]8;id=390571;file://C:\\Users\\jampu\\OneDrive\\Desktop\\EX_Monopoly\\venv\\Lib\\site-packages\\kedro\\ipython\\__init__.py#144\u001b\\\u001b[2m144\u001b[0m\u001b]8;;\u001b\\\n"
      ]
     },
     "metadata": {},
     "output_type": "display_data"
    },
    {
     "data": {
      "text/html": [
       "<pre style=\"white-space:pre;overflow-x:auto;line-height:normal;font-family:Menlo,'DejaVu Sans Mono',consolas,'Courier New',monospace\"><span style=\"color: #7fbfbf; text-decoration-color: #7fbfbf\">                    </span><span style=\"color: #000080; text-decoration-color: #000080\">INFO    </span> Defined global variable <span style=\"color: #008000; text-decoration-color: #008000\">'context'</span>, <span style=\"color: #008000; text-decoration-color: #008000\">'session'</span>, <span style=\"color: #008000; text-decoration-color: #008000\">'catalog'</span> and            <a href=\"file://C:\\Users\\jampu\\OneDrive\\Desktop\\EX_Monopoly\\venv\\Lib\\site-packages\\kedro\\ipython\\__init__.py\" target=\"_blank\"><span style=\"color: #7f7f7f; text-decoration-color: #7f7f7f\">__init__.py</span></a><span style=\"color: #7f7f7f; text-decoration-color: #7f7f7f\">:</span><a href=\"file://C:\\Users\\jampu\\OneDrive\\Desktop\\EX_Monopoly\\venv\\Lib\\site-packages\\kedro\\ipython\\__init__.py#145\" target=\"_blank\"><span style=\"color: #7f7f7f; text-decoration-color: #7f7f7f\">145</span></a>\n",
       "<span style=\"color: #7fbfbf; text-decoration-color: #7fbfbf\">                    </span>         <span style=\"color: #008000; text-decoration-color: #008000\">'pipelines'</span>                                                            <span style=\"color: #7f7f7f; text-decoration-color: #7f7f7f\">               </span>\n",
       "</pre>\n"
      ],
      "text/plain": [
       "\u001b[2;36m                   \u001b[0m\u001b[2;36m \u001b[0m\u001b[34mINFO    \u001b[0m Defined global variable \u001b[32m'context'\u001b[0m, \u001b[32m'session'\u001b[0m, \u001b[32m'catalog'\u001b[0m and            \u001b]8;id=62048;file://C:\\Users\\jampu\\OneDrive\\Desktop\\EX_Monopoly\\venv\\Lib\\site-packages\\kedro\\ipython\\__init__.py\u001b\\\u001b[2m__init__.py\u001b[0m\u001b]8;;\u001b\\\u001b[2m:\u001b[0m\u001b]8;id=9636;file://C:\\Users\\jampu\\OneDrive\\Desktop\\EX_Monopoly\\venv\\Lib\\site-packages\\kedro\\ipython\\__init__.py#145\u001b\\\u001b[2m145\u001b[0m\u001b]8;;\u001b\\\n",
       "\u001b[2;36m                    \u001b[0m         \u001b[32m'pipelines'\u001b[0m                                                            \u001b[2m               \u001b[0m\n"
      ]
     },
     "metadata": {},
     "output_type": "display_data"
    },
    {
     "data": {
      "text/html": [
       "<pre style=\"white-space:pre;overflow-x:auto;line-height:normal;font-family:Menlo,'DejaVu Sans Mono',consolas,'Courier New',monospace\"><span style=\"color: #7fbfbf; text-decoration-color: #7fbfbf\">                    </span><span style=\"color: #000080; text-decoration-color: #000080\">INFO    </span> Registered line magic <span style=\"color: #008000; text-decoration-color: #008000\">'run_viz'</span>                                        <a href=\"file://C:\\Users\\jampu\\OneDrive\\Desktop\\EX_Monopoly\\venv\\Lib\\site-packages\\kedro\\ipython\\__init__.py\" target=\"_blank\"><span style=\"color: #7f7f7f; text-decoration-color: #7f7f7f\">__init__.py</span></a><span style=\"color: #7f7f7f; text-decoration-color: #7f7f7f\">:</span><a href=\"file://C:\\Users\\jampu\\OneDrive\\Desktop\\EX_Monopoly\\venv\\Lib\\site-packages\\kedro\\ipython\\__init__.py#151\" target=\"_blank\"><span style=\"color: #7f7f7f; text-decoration-color: #7f7f7f\">151</span></a>\n",
       "</pre>\n"
      ],
      "text/plain": [
       "\u001b[2;36m                   \u001b[0m\u001b[2;36m \u001b[0m\u001b[34mINFO    \u001b[0m Registered line magic \u001b[32m'run_viz'\u001b[0m                                        \u001b]8;id=196108;file://C:\\Users\\jampu\\OneDrive\\Desktop\\EX_Monopoly\\venv\\Lib\\site-packages\\kedro\\ipython\\__init__.py\u001b\\\u001b[2m__init__.py\u001b[0m\u001b]8;;\u001b\\\u001b[2m:\u001b[0m\u001b]8;id=498745;file://C:\\Users\\jampu\\OneDrive\\Desktop\\EX_Monopoly\\venv\\Lib\\site-packages\\kedro\\ipython\\__init__.py#151\u001b\\\u001b[2m151\u001b[0m\u001b]8;;\u001b\\\n"
      ]
     },
     "metadata": {},
     "output_type": "display_data"
    }
   ],
   "source": [
    "%load_ext kedro.ipython"
   ]
  },
  {
   "cell_type": "code",
   "execution_count": 3,
   "id": "bf53a918-a726-49c4-b920-dfbdc4ba6206",
   "metadata": {},
   "outputs": [
    {
     "data": {
      "text/html": [
       "<pre style=\"white-space:pre;overflow-x:auto;line-height:normal;font-family:Menlo,'DejaVu Sans Mono',consolas,'Courier New',monospace\"></pre>\n"
      ],
      "text/plain": []
     },
     "metadata": {},
     "output_type": "display_data"
    },
    {
     "data": {
      "text/plain": [
       "\n",
       "\u001b[1;35mKedroContext\u001b[0m\u001b[1m(\u001b[0m\n",
       "    \u001b[33mproject_path\u001b[0m=\u001b[1;35mWindowsPath\u001b[0m\u001b[1m(\u001b[0m\u001b[32m'C:/Users/jampu/OneDrive/Desktop/EX_Monopoly/monopoly'\u001b[0m\u001b[1m)\u001b[0m,\n",
       "    \u001b[33mconfig_loader\u001b[0m=\u001b[1;35mOmegaConfigLoader\u001b[0m\u001b[1m(\u001b[0m\u001b[33mconf_source\u001b[0m=\u001b[35mC\u001b[0m:\\Users\\jampu\\OneDrive\\Desktop\\EX_Monopoly\\monopoly\\conf, \u001b[33menv\u001b[0m=\u001b[3;35mNone\u001b[0m, \u001b[33mruntime_params\u001b[0m=\u001b[1m{\u001b[0m\u001b[1m}\u001b[0m, \u001b[33mconfig_patterns\u001b[0m=\u001b[1m{\u001b[0m\u001b[32m'catalog'\u001b[0m: \u001b[1m[\u001b[0m\u001b[32m'catalog*'\u001b[0m, \u001b[32m'catalog*/**'\u001b[0m, \u001b[32m'**/catalog*'\u001b[0m\u001b[1m]\u001b[0m, \u001b[32m'parameters'\u001b[0m: \u001b[1m[\u001b[0m\u001b[32m'parameters*'\u001b[0m, \u001b[32m'parameters*/**'\u001b[0m, \u001b[32m'**/parameters*'\u001b[0m\u001b[1m]\u001b[0m, \u001b[32m'credentials'\u001b[0m: \u001b[1m[\u001b[0m\u001b[32m'credentials*'\u001b[0m, \u001b[32m'credentials*/**'\u001b[0m, \u001b[32m'**/credentials*'\u001b[0m\u001b[1m]\u001b[0m, \u001b[32m'globals'\u001b[0m: \u001b[1m[\u001b[0m\u001b[32m'globals.yml'\u001b[0m\u001b[1m]\u001b[0m\u001b[1m}\u001b[0m, \u001b[33mbase_env\u001b[0m=\u001b[35mbase\u001b[0m\u001b[1m)\u001b[0m, \u001b[33mdefault_run_env\u001b[0m=\u001b[35mlocal\u001b[0m\u001b[1m)\u001b[0m, \u001b[33mcustom_resolvers\u001b[0m=\u001b[3;35mNone\u001b[0m\u001b[1m)\u001b[0m, \u001b[33mmerge_strategy\u001b[0m=\u001b[1m{\u001b[0m\u001b[1m}\u001b[0m\u001b[1m)\u001b[0m,\n",
       "    \u001b[33menv\u001b[0m=\u001b[3;35mNone\u001b[0m,\n",
       "    \u001b[33m_package_name\u001b[0m=\u001b[3;35mNone\u001b[0m,\n",
       "    \u001b[33m_hook_manager\u001b[0m=\u001b[1m<\u001b[0m\u001b[1;95mpluggy._manager.PluginManager\u001b[0m\u001b[39m object at \u001b[0m\u001b[1;36m0x000001D6ECEF0470\u001b[0m\u001b[1m>\u001b[0m,\n",
       "    \u001b[33m_extra_params\u001b[0m=\u001b[3;35mNone\u001b[0m\n",
       "\u001b[1m)\u001b[0m"
      ]
     },
     "execution_count": 3,
     "metadata": {},
     "output_type": "execute_result"
    }
   ],
   "source": [
    "context"
   ]
  },
  {
   "cell_type": "code",
   "execution_count": 4,
   "id": "f40dd672-76e6-4891-8f3c-bc5e4cd1fa0a",
   "metadata": {},
   "outputs": [
    {
     "data": {
      "text/html": [
       "<pre style=\"white-space:pre;overflow-x:auto;line-height:normal;font-family:Menlo,'DejaVu Sans Mono',consolas,'Courier New',monospace\"></pre>\n"
      ],
      "text/plain": []
     },
     "metadata": {},
     "output_type": "display_data"
    },
    {
     "data": {
      "text/plain": [
       "\n",
       "\u001b[1m{\u001b[0m\u001b[32m'Monopoly'\u001b[0m: \u001b[32m\"kedro_datasets.pandas.parquet_dataset.ParquetDataset\u001b[0m\u001b[32m(\u001b[0m\u001b[32mfilepath\u001b[0m\u001b[32m=\u001b[0m\u001b[32mPurePosixPath\u001b[0m\u001b[32m(\u001b[0m\u001b[32m'C:/Users/jampu/OneDrive/Desktop/EX_Monopoly/monopoly/data/01_raw/Monopoly.parquet'\u001b[0m\u001b[32m)\u001b[0m\u001b[32m, \"\u001b[0m\n",
       "             \u001b[32m\"\u001b[0m\u001b[32mprotocol\u001b[0m\u001b[32m='file', \u001b[0m\u001b[32mload_args\u001b[0m\u001b[32m=\u001b[0m\u001b[32m{\u001b[0m\u001b[32m'engine': 'pyarrow'\u001b[0m\u001b[32m}\u001b[0m\u001b[32m, \u001b[0m\u001b[32msave_args\u001b[0m\u001b[32m=\u001b[0m\u001b[32m{\u001b[0m\u001b[32m}\u001b[0m\u001b[32m)\u001b[0m\u001b[32m\"\u001b[0m,\n",
       " \u001b[32m'parameters'\u001b[0m: \u001b[32m\"kedro.io.memory_dataset.MemoryDataset\u001b[0m\u001b[32m(\u001b[0m\u001b[32mdata\u001b[0m\u001b[32m='\u001b[0m\u001b[32m<\u001b[0m\u001b[32mdict\u001b[0m\u001b[32m>\u001b[0m\u001b[32m'\u001b[0m\u001b[32m)\u001b[0m\u001b[32m\"\u001b[0m\u001b[1m}\u001b[0m"
      ]
     },
     "execution_count": 4,
     "metadata": {},
     "output_type": "execute_result"
    }
   ],
   "source": [
    "catalog"
   ]
  },
  {
   "cell_type": "code",
   "execution_count": 5,
   "id": "e0baa092-517b-4a20-932d-af403421ec77",
   "metadata": {},
   "outputs": [
    {
     "data": {
      "text/html": [
       "<pre style=\"white-space:pre;overflow-x:auto;line-height:normal;font-family:Menlo,'DejaVu Sans Mono',consolas,'Courier New',monospace\"><span style=\"color: #7fbfbf; text-decoration-color: #7fbfbf\">[11/18/24 10:16:53] </span><span style=\"color: #000080; text-decoration-color: #000080\">INFO    </span> Loading data from <span style=\"color: #ff8700; text-decoration-color: #ff8700\">Monopoly</span> <span style=\"font-weight: bold\">(</span>ParquetDataset<span style=\"font-weight: bold\">)</span><span style=\"color: #808000; text-decoration-color: #808000\">...</span>                     <a href=\"file://C:\\Users\\jampu\\OneDrive\\Desktop\\EX_Monopoly\\venv\\Lib\\site-packages\\kedro\\io\\data_catalog.py\" target=\"_blank\"><span style=\"color: #7f7f7f; text-decoration-color: #7f7f7f\">data_catalog.py</span></a><span style=\"color: #7f7f7f; text-decoration-color: #7f7f7f\">:</span><a href=\"file://C:\\Users\\jampu\\OneDrive\\Desktop\\EX_Monopoly\\venv\\Lib\\site-packages\\kedro\\io\\data_catalog.py#389\" target=\"_blank\"><span style=\"color: #7f7f7f; text-decoration-color: #7f7f7f\">389</span></a>\n",
       "</pre>\n"
      ],
      "text/plain": [
       "\u001b[2;36m[11/18/24 10:16:53]\u001b[0m\u001b[2;36m \u001b[0m\u001b[34mINFO    \u001b[0m Loading data from \u001b[38;5;208mMonopoly\u001b[0m \u001b[1m(\u001b[0mParquetDataset\u001b[1m)\u001b[0m\u001b[33m...\u001b[0m                     \u001b]8;id=688652;file://C:\\Users\\jampu\\OneDrive\\Desktop\\EX_Monopoly\\venv\\Lib\\site-packages\\kedro\\io\\data_catalog.py\u001b\\\u001b[2mdata_catalog.py\u001b[0m\u001b]8;;\u001b\\\u001b[2m:\u001b[0m\u001b]8;id=200199;file://C:\\Users\\jampu\\OneDrive\\Desktop\\EX_Monopoly\\venv\\Lib\\site-packages\\kedro\\io\\data_catalog.py#389\u001b\\\u001b[2m389\u001b[0m\u001b]8;;\u001b\\\n"
      ]
     },
     "metadata": {},
     "output_type": "display_data"
    }
   ],
   "source": [
    "df=catalog.load(\"Monopoly\")"
   ]
  },
  {
   "cell_type": "code",
   "execution_count": 22,
   "id": "a1d13b44-c72f-401a-80a7-bb6591225873",
   "metadata": {},
   "outputs": [],
   "source": [
    "import pandas as pd\n",
    "import numpy as np\n",
    "from sklearn.impute import KNNImputer"
   ]
  },
  {
   "cell_type": "code",
   "execution_count": 7,
   "id": "5560c600-a750-4d2e-b86d-00e465254479",
   "metadata": {},
   "outputs": [
    {
     "data": {
      "text/html": [
       "<pre style=\"white-space:pre;overflow-x:auto;line-height:normal;font-family:Menlo,'DejaVu Sans Mono',consolas,'Courier New',monospace\"></pre>\n"
      ],
      "text/plain": []
     },
     "metadata": {},
     "output_type": "display_data"
    },
    {
     "data": {
      "text/html": [
       "<div>\n",
       "<style scoped>\n",
       "    .dataframe tbody tr th:only-of-type {\n",
       "        vertical-align: middle;\n",
       "    }\n",
       "\n",
       "    .dataframe tbody tr th {\n",
       "        vertical-align: top;\n",
       "    }\n",
       "\n",
       "    .dataframe thead th {\n",
       "        text-align: right;\n",
       "    }\n",
       "</style>\n",
       "<table border=\"1\" class=\"dataframe\">\n",
       "  <thead>\n",
       "    <tr style=\"text-align: right;\">\n",
       "      <th></th>\n",
       "      <th>Id</th>\n",
       "      <th>Subsegmento</th>\n",
       "      <th>Sexo</th>\n",
       "      <th>Region</th>\n",
       "      <th>Edad</th>\n",
       "      <th>Renta</th>\n",
       "      <th>Antiguedad</th>\n",
       "      <th>Internauta</th>\n",
       "      <th>Adicional</th>\n",
       "      <th>Dualidad</th>\n",
       "      <th>...</th>\n",
       "      <th>ColMx_T01</th>\n",
       "      <th>PagoNac_T01</th>\n",
       "      <th>PagoInt_T01</th>\n",
       "      <th>EeccNac_T01</th>\n",
       "      <th>EeccInt_T01</th>\n",
       "      <th>UsoL1_T01</th>\n",
       "      <th>UsoL2_T01</th>\n",
       "      <th>UsoLI_T01</th>\n",
       "      <th>IndRev_T01</th>\n",
       "      <th>target</th>\n",
       "    </tr>\n",
       "  </thead>\n",
       "  <tbody>\n",
       "    <tr>\n",
       "      <th>0</th>\n",
       "      <td>1</td>\n",
       "      <td>160</td>\n",
       "      <td>M</td>\n",
       "      <td>13.0</td>\n",
       "      <td>43</td>\n",
       "      <td>nan</td>\n",
       "      <td>130</td>\n",
       "      <td>1</td>\n",
       "      <td>1</td>\n",
       "      <td>0</td>\n",
       "      <td>...</td>\n",
       "      <td>0.0</td>\n",
       "      <td>33000</td>\n",
       "      <td>0.0</td>\n",
       "      <td>1099866.0</td>\n",
       "      <td>0.0</td>\n",
       "      <td>1099866.0</td>\n",
       "      <td>15080</td>\n",
       "      <td>0.0</td>\n",
       "      <td>R</td>\n",
       "      <td>0</td>\n",
       "    </tr>\n",
       "    <tr>\n",
       "      <th>1</th>\n",
       "      <td>2</td>\n",
       "      <td>160</td>\n",
       "      <td>H</td>\n",
       "      <td>13.0</td>\n",
       "      <td>46</td>\n",
       "      <td>143640.0</td>\n",
       "      <td>69</td>\n",
       "      <td>1</td>\n",
       "      <td>0</td>\n",
       "      <td>0</td>\n",
       "      <td>...</td>\n",
       "      <td>0.0</td>\n",
       "      <td>300000</td>\n",
       "      <td>0.0</td>\n",
       "      <td>214592.0</td>\n",
       "      <td>0.0</td>\n",
       "      <td>214592.0</td>\n",
       "      <td>83596</td>\n",
       "      <td>0.0</td>\n",
       "      <td>R</td>\n",
       "      <td>0</td>\n",
       "    </tr>\n",
       "    <tr>\n",
       "      <th>2</th>\n",
       "      <td>3</td>\n",
       "      <td>170</td>\n",
       "      <td>H</td>\n",
       "      <td>13.0</td>\n",
       "      <td>45</td>\n",
       "      <td>929106.0</td>\n",
       "      <td>24</td>\n",
       "      <td>1</td>\n",
       "      <td>1</td>\n",
       "      <td>0</td>\n",
       "      <td>...</td>\n",
       "      <td>0.0</td>\n",
       "      <td>216676</td>\n",
       "      <td>0.0</td>\n",
       "      <td>0.0</td>\n",
       "      <td>0.0</td>\n",
       "      <td>7400.0</td>\n",
       "      <td>0</td>\n",
       "      <td>0.0</td>\n",
       "      <td>T</td>\n",
       "      <td>0</td>\n",
       "    </tr>\n",
       "    <tr>\n",
       "      <th>3</th>\n",
       "      <td>4</td>\n",
       "      <td>151</td>\n",
       "      <td>H</td>\n",
       "      <td>13.0</td>\n",
       "      <td>46</td>\n",
       "      <td>172447.0</td>\n",
       "      <td>134</td>\n",
       "      <td>0</td>\n",
       "      <td>1</td>\n",
       "      <td>0</td>\n",
       "      <td>...</td>\n",
       "      <td>0.0</td>\n",
       "      <td>60000</td>\n",
       "      <td>0.0</td>\n",
       "      <td>272762.0</td>\n",
       "      <td>0.0</td>\n",
       "      <td>272762.0</td>\n",
       "      <td>10591</td>\n",
       "      <td>0.0</td>\n",
       "      <td>R</td>\n",
       "      <td>0</td>\n",
       "    </tr>\n",
       "    <tr>\n",
       "      <th>4</th>\n",
       "      <td>5</td>\n",
       "      <td>170</td>\n",
       "      <td>H</td>\n",
       "      <td>13.0</td>\n",
       "      <td>46</td>\n",
       "      <td>805250.0</td>\n",
       "      <td>116</td>\n",
       "      <td>0</td>\n",
       "      <td>1</td>\n",
       "      <td>1</td>\n",
       "      <td>...</td>\n",
       "      <td>0.0</td>\n",
       "      <td>272925</td>\n",
       "      <td>0.0</td>\n",
       "      <td>249562.0</td>\n",
       "      <td>0.0</td>\n",
       "      <td>75339.0</td>\n",
       "      <td>377782</td>\n",
       "      <td>0.0</td>\n",
       "      <td>R</td>\n",
       "      <td>0</td>\n",
       "    </tr>\n",
       "  </tbody>\n",
       "</table>\n",
       "<p>5 rows × 574 columns</p>\n",
       "</div>"
      ],
      "text/plain": [
       "\n",
       "  Id Subsegmento Sexo Region Edad     Renta Antiguedad Internauta Adicional  \\\n",
       "\u001b[1;36m0\u001b[0m  \u001b[1;36m1\u001b[0m         \u001b[1;36m160\u001b[0m    M   \u001b[1;36m13.0\u001b[0m   \u001b[1;36m43\u001b[0m       nan        \u001b[1;36m130\u001b[0m          \u001b[1;36m1\u001b[0m         \u001b[1;36m1\u001b[0m   \n",
       "\u001b[1;36m1\u001b[0m  \u001b[1;36m2\u001b[0m         \u001b[1;36m160\u001b[0m    H   \u001b[1;36m13.0\u001b[0m   \u001b[1;36m46\u001b[0m  \u001b[1;36m143640.0\u001b[0m         \u001b[1;36m69\u001b[0m          \u001b[1;36m1\u001b[0m         \u001b[1;36m0\u001b[0m   \n",
       "\u001b[1;36m2\u001b[0m  \u001b[1;36m3\u001b[0m         \u001b[1;36m170\u001b[0m    H   \u001b[1;36m13.0\u001b[0m   \u001b[1;36m45\u001b[0m  \u001b[1;36m929106.0\u001b[0m         \u001b[1;36m24\u001b[0m          \u001b[1;36m1\u001b[0m         \u001b[1;36m1\u001b[0m   \n",
       "\u001b[1;36m3\u001b[0m  \u001b[1;36m4\u001b[0m         \u001b[1;36m151\u001b[0m    H   \u001b[1;36m13.0\u001b[0m   \u001b[1;36m46\u001b[0m  \u001b[1;36m172447.0\u001b[0m        \u001b[1;36m134\u001b[0m          \u001b[1;36m0\u001b[0m         \u001b[1;36m1\u001b[0m   \n",
       "\u001b[1;36m4\u001b[0m  \u001b[1;36m5\u001b[0m         \u001b[1;36m170\u001b[0m    H   \u001b[1;36m13.0\u001b[0m   \u001b[1;36m46\u001b[0m  \u001b[1;36m805250.0\u001b[0m        \u001b[1;36m116\u001b[0m          \u001b[1;36m0\u001b[0m         \u001b[1;36m1\u001b[0m   \n",
       "\n",
       "  Dualidad  \u001b[33m...\u001b[0m ColMx_T01 PagoNac_T01 PagoInt_T01 EeccNac_T01 EeccInt_T01  \\\n",
       "\u001b[1;36m0\u001b[0m        \u001b[1;36m0\u001b[0m  \u001b[33m...\u001b[0m       \u001b[1;36m0.0\u001b[0m       \u001b[1;36m33000\u001b[0m         \u001b[1;36m0.0\u001b[0m   \u001b[1;36m1099866.0\u001b[0m         \u001b[1;36m0.0\u001b[0m   \n",
       "\u001b[1;36m1\u001b[0m        \u001b[1;36m0\u001b[0m  \u001b[33m...\u001b[0m       \u001b[1;36m0.0\u001b[0m      \u001b[1;36m300000\u001b[0m         \u001b[1;36m0.0\u001b[0m    \u001b[1;36m214592.0\u001b[0m         \u001b[1;36m0.0\u001b[0m   \n",
       "\u001b[1;36m2\u001b[0m        \u001b[1;36m0\u001b[0m  \u001b[33m...\u001b[0m       \u001b[1;36m0.0\u001b[0m      \u001b[1;36m216676\u001b[0m         \u001b[1;36m0.0\u001b[0m         \u001b[1;36m0.0\u001b[0m         \u001b[1;36m0.0\u001b[0m   \n",
       "\u001b[1;36m3\u001b[0m        \u001b[1;36m0\u001b[0m  \u001b[33m...\u001b[0m       \u001b[1;36m0.0\u001b[0m       \u001b[1;36m60000\u001b[0m         \u001b[1;36m0.0\u001b[0m    \u001b[1;36m272762.0\u001b[0m         \u001b[1;36m0.0\u001b[0m   \n",
       "\u001b[1;36m4\u001b[0m        \u001b[1;36m1\u001b[0m  \u001b[33m...\u001b[0m       \u001b[1;36m0.0\u001b[0m      \u001b[1;36m272925\u001b[0m         \u001b[1;36m0.0\u001b[0m    \u001b[1;36m249562.0\u001b[0m         \u001b[1;36m0.0\u001b[0m   \n",
       "\n",
       "   UsoL1_T01 UsoL2_T01 UsoLI_T01 IndRev_T01 target  \n",
       "\u001b[1;36m0\u001b[0m  \u001b[1;36m1099866.0\u001b[0m     \u001b[1;36m15080\u001b[0m       \u001b[1;36m0.0\u001b[0m          R      \u001b[1;36m0\u001b[0m  \n",
       "\u001b[1;36m1\u001b[0m   \u001b[1;36m214592.0\u001b[0m     \u001b[1;36m83596\u001b[0m       \u001b[1;36m0.0\u001b[0m          R      \u001b[1;36m0\u001b[0m  \n",
       "\u001b[1;36m2\u001b[0m     \u001b[1;36m7400.0\u001b[0m         \u001b[1;36m0\u001b[0m       \u001b[1;36m0.0\u001b[0m          T      \u001b[1;36m0\u001b[0m  \n",
       "\u001b[1;36m3\u001b[0m   \u001b[1;36m272762.0\u001b[0m     \u001b[1;36m10591\u001b[0m       \u001b[1;36m0.0\u001b[0m          R      \u001b[1;36m0\u001b[0m  \n",
       "\u001b[1;36m4\u001b[0m    \u001b[1;36m75339.0\u001b[0m    \u001b[1;36m377782\u001b[0m       \u001b[1;36m0.0\u001b[0m          R      \u001b[1;36m0\u001b[0m  \n",
       "\n",
       "\u001b[1m[\u001b[0m\u001b[1;36m5\u001b[0m rows x \u001b[1;36m574\u001b[0m columns\u001b[1m]\u001b[0m"
      ]
     },
     "execution_count": 7,
     "metadata": {},
     "output_type": "execute_result"
    }
   ],
   "source": [
    "df.head()"
   ]
  },
  {
   "cell_type": "code",
   "execution_count": 8,
   "id": "db012416-9e9b-4add-aa1a-dc8a186db429",
   "metadata": {},
   "outputs": [],
   "source": [
    "# Revisar valores únicos en algunas columnas para buscar patrones de datos faltantes\n",
    "#for col in df.columns:\n",
    "    #print(f\"{col}: {df[col].unique()[:10]}\")  # Muestra los primeros 10 valores únicos de cada columna\n"
   ]
  },
  {
   "cell_type": "code",
   "execution_count": 9,
   "id": "0378188c-aad2-4473-83c8-71e4bee52bfa",
   "metadata": {},
   "outputs": [
    {
     "name": "stdout",
     "output_type": "stream",
     "text": [
      "Cantidad de valores vacíos por columna después de reemplazo (ordenado de mayor a menor):\n",
      "CambioPin        19388\n",
      "Renta            13365\n",
      "TxsDebAtm_T12     8251\n",
      "Col_T12           8251\n",
      "ColL1T0_T12       8251\n",
      "                 ...  \n",
      "FlgActAI_T03        10\n",
      "FlgActCI_T03        10\n",
      "FlgActCN_T03        10\n",
      "FlgActAN_T03        10\n",
      "Sexo                 1\n",
      "Length: 510, dtype: int64\n"
     ]
    }
   ],
   "source": [
    "# Reemplazar valores 'nan' como texto por valores NaN de Pandas en todo el DataFrame\n",
    "df.replace('nan', pd.NA, inplace=True)\n",
    "\n",
    "# Volver a contar los valores faltantes en cada columna\n",
    "missing_values = df.isnull().sum()\n",
    "missing_values = missing_values[missing_values > 0]\n",
    "\n",
    "# Ordenar las columnas por cantidad de valores vacíos en orden descendente\n",
    "missing_values_sorted = missing_values.sort_values(ascending=False)\n",
    "\n",
    "# Mostrar los resultados\n",
    "print(\"Cantidad de valores vacíos por columna después de reemplazo (ordenado de mayor a menor):\")\n",
    "print(missing_values_sorted)\n"
   ]
  },
  {
   "cell_type": "code",
   "execution_count": 10,
   "id": "d5d7e9dc-5cf2-4fff-b001-51541f93fe1a",
   "metadata": {},
   "outputs": [
    {
     "name": "stdout",
     "output_type": "stream",
     "text": [
      "Columnas 'CambioPin' y 'Renta' han sido borradas \n"
     ]
    }
   ],
   "source": [
    "# Eliminar las columnas 'CambioPin' y 'Renta' del DataFrame\n",
    "df = df.drop(columns=['CambioPin', 'Renta'])\n",
    "print(\"Columnas 'CambioPin' y 'Renta' han sido borradas \")"
   ]
  },
  {
   "cell_type": "code",
   "execution_count": 11,
   "id": "c3a3d234-4ab1-4d0d-a0a2-d13c8f3a3d4e",
   "metadata": {},
   "outputs": [],
   "source": [
    "# Imputar valores para columnas numéricas usando la media\n",
    "#numeric_columns = df.select_dtypes(include=['float64', 'int64']).columns\n",
    "#for col in numeric_columns:\n",
    "    #df[col] = df[col].fillna(df[col].mean())  # Cambiar a median() si prefieres la mediana\n",
    "\n",
    "# Imputar valores para columnas categóricas usando la moda\n",
    "#categorical_columns = df.select_dtypes(include=['object']).columns\n",
    "#for col in categorical_columns:\n",
    "    #df[col] = df[col].fillna(df[col].mode()[0])  # Usa la moda para categorías\n",
    "\n",
    "# Mostrar un resumen de datos faltantes después de la imputación\n",
    "#missing_values_post = df.isnull().sum()\n",
    "#print(\"Valores faltantes después de la imputación:\")\n",
    "#print(missing_values_post[missing_values_post > 0])\n"
   ]
  },
  {
   "cell_type": "markdown",
   "id": "2445661a-f279-46e8-8d46-edb381973beb",
   "metadata": {},
   "source": [
    "Cambiar el tipo de dato"
   ]
  },
  {
   "cell_type": "code",
   "execution_count": 24,
   "id": "098ef4ee-5bcb-4bed-9424-8a15e148e400",
   "metadata": {},
   "outputs": [
    {
     "name": "stdout",
     "output_type": "stream",
     "text": [
      "Tipos de datos después de la conversión:\n",
      "Id             float64\n",
      "Subsegmento    float64\n",
      "Sexo            object\n",
      "Region         float64\n",
      "Edad           float64\n",
      "                ...   \n",
      "UsoL1_T01      float64\n",
      "UsoL2_T01      float64\n",
      "UsoLI_T01      float64\n",
      "IndRev_T01      object\n",
      "target         float64\n",
      "Length: 572, dtype: object\n"
     ]
    }
   ],
   "source": [
    "# Lista de columnas que NO se convertirán a float\n",
    "exclude_columns = ['Sexo', 'IndRev_T12', 'IndRev_T11', 'IndRev_T10', \n",
    "                   'IndRev_T09', 'IndRev_T08', 'IndRev_T07', 'IndRev_T06', \n",
    "                   'IndRev_T05', 'IndRev_T04', 'IndRev_T03', 'IndRev_T02', 'IndRev_T01']\n",
    "\n",
    "# Reemplazar valores NAType por np.nan\n",
    "df = df.replace({pd.NA: np.nan})\n",
    "\n",
    "# Iterar sobre todas las columnas y convertir a float excepto las excluidas\n",
    "for col in df.columns:\n",
    "    if col not in exclude_columns:\n",
    "        try:\n",
    "            # Intentar convertir a float\n",
    "            df[col] = df[col].astype(float)\n",
    "        except ValueError as e:\n",
    "            print(f\"No se pudo convertir la columna '{col}' a float: {e}\")\n",
    "\n",
    "# Verificar el tipo de datos después de la conversión\n",
    "print(\"Tipos de datos después de la conversión:\")\n",
    "print(df.dtypes)"
   ]
  },
  {
   "cell_type": "code",
   "execution_count": 29,
   "id": "7789fee9-5077-4241-819c-0db2a143aa1c",
   "metadata": {},
   "outputs": [
    {
     "name": "stdout",
     "output_type": "stream",
     "text": [
      "Imputando bloque: Index(['Id', 'Subsegmento', 'Region'], dtype='object')... (50 columnas)\n",
      "Imputando bloque: Index(['ColL1T0_T12', 'ColL1TE_T12', 'ColL2T0_T12'], dtype='object')... (50 columnas)\n",
      "Imputando bloque: Index(['ColMx_T11', 'PagoNac_T11', 'PagoInt_T11'], dtype='object')... (50 columnas)\n",
      "Imputando bloque: Index(['UsoL1_T10', 'UsoL2_T10', 'UsoLI_T10'], dtype='object')... (50 columnas)\n",
      "Imputando bloque: Index(['FlgActCI_T08', 'FlgActAN_T08', 'FlgActAI_T08'], dtype='object')... (50 columnas)\n",
      "Imputando bloque: Index(['FlgActCCOT_T07', 'FlgActCOL_T07', 'Fac_T07'], dtype='object')... (50 columnas)\n",
      "Imputando bloque: Index(['TxsCN_T06', 'FacCI_T06', 'TxsCI_T06'], dtype='object')... (50 columnas)\n",
      "Imputando bloque: Index(['FacAI_T05', 'TxsAI_T05', 'FacPAT_T05'], dtype='object')... (50 columnas)\n",
      "Imputando bloque: Index(['TxsCCPC_T04', 'FacCCOT_T04', 'TxsCCOT_T04'], dtype='object')... (50 columnas)\n",
      "Imputando bloque: Index(['FacDebCom_T03', 'TxsDebCom_T03', 'FacDebAtm_T03'], dtype='object')... (50 columnas)\n",
      "Imputando bloque: Index(['ColL1T0_T02', 'ColL1TE_T02', 'ColL2T0_T02'], dtype='object')... (50 columnas)\n",
      "Imputando bloque: Index(['ColMx_T01', 'PagoNac_T01', 'PagoInt_T01'], dtype='object')... (9 columnas)\n",
      "Valores faltantes después de imputación con k-NN:\n",
      "Sexo             1\n",
      "IndRev_T12    8251\n",
      "IndRev_T11    6632\n",
      "IndRev_T10    5191\n",
      "IndRev_T09    3800\n",
      "IndRev_T08    2200\n",
      "IndRev_T07     833\n",
      "IndRev_T06      47\n",
      "IndRev_T05      25\n",
      "IndRev_T04      19\n",
      "IndRev_T03      10\n",
      "IndRev_T02      12\n",
      "dtype: int64\n"
     ]
    }
   ],
   "source": [
    "# Tamaño del bloque\n",
    "block_size = 50\n",
    "\n",
    "# Filtrar únicamente columnas numéricas (excluir cualquier columna categórica)\n",
    "numeric_columns = df.select_dtypes(include=['float64', 'int64']).columns\n",
    "\n",
    "# Dividir las columnas numéricas en bloques\n",
    "blocks = [numeric_columns[i:i + block_size] for i in range(0, len(numeric_columns), block_size)]\n",
    "\n",
    "# Iterar sobre bloques y aplicar imputación\n",
    "for block in blocks:\n",
    "    print(f\"Imputando bloque: {block[:3]}... ({len(block)} columnas)\")  # Mostrar primeras 3 columnas del bloque\n",
    "    imputer = KNNImputer(n_neighbors=3)  # Puedes ajustar n_neighbors según sea necesario\n",
    "    df[block] = pd.DataFrame(imputer.fit_transform(df[block]), columns=block)\n",
    "\n",
    "# Verificar valores faltantes después de la imputación\n",
    "missing_values_post = df.isnull().sum()\n",
    "print(\"Valores faltantes después de imputación con k-NN:\")\n",
    "print(missing_values_post[missing_values_post > 0])"
   ]
  },
  {
   "cell_type": "code",
   "execution_count": 31,
   "id": "89bd5557-aa72-4446-9c59-525b13b81f59",
   "metadata": {},
   "outputs": [],
   "source": [
    "df['Sexo'] = df['Sexo'].fillna(df['Sexo'].mode()[0])"
   ]
  },
  {
   "cell_type": "code",
   "execution_count": 32,
   "id": "e556557e-c4f2-4306-892c-fd3a6035a0b9",
   "metadata": {},
   "outputs": [],
   "source": [
    "exclude_columns = ['IndRev_T12', 'IndRev_T11', 'IndRev_T10', \n",
    "                   'IndRev_T09', 'IndRev_T08', 'IndRev_T07', \n",
    "                   'IndRev_T06', 'IndRev_T05', 'IndRev_T04', \n",
    "                   'IndRev_T03', 'IndRev_T02', 'IndRev_T01']\n",
    "\n",
    "for col in exclude_columns:\n",
    "    df[col] = df[col].fillna(df[col].mode()[0])"
   ]
  },
  {
   "cell_type": "code",
   "execution_count": 33,
   "id": "eca351b9-d7d7-4036-92fe-a96f0abc835b",
   "metadata": {},
   "outputs": [
    {
     "name": "stdout",
     "output_type": "stream",
     "text": [
      "Valores faltantes restantes después de imputar categorías:\n",
      "Series([], dtype: int64)\n"
     ]
    }
   ],
   "source": [
    "missing_values_post = df.isnull().sum()\n",
    "print(\"Valores faltantes restantes después de imputar categorías:\")\n",
    "print(missing_values_post[missing_values_post > 0])\n"
   ]
  },
  {
   "cell_type": "code",
   "execution_count": 36,
   "id": "ec914ff4-99f5-4eca-b6b6-bec1499e0286",
   "metadata": {},
   "outputs": [
    {
     "name": "stdout",
     "output_type": "stream",
     "text": [
      "0      55490.000000\n",
      "1      19813.000000\n",
      "2     123950.000000\n",
      "3      44470.000000\n",
      "4     138225.000000\n",
      "5     134990.000000\n",
      "6     241750.000000\n",
      "7      45270.000000\n",
      "8      23980.000000\n",
      "9          0.000000\n",
      "10         0.000000\n",
      "11    140722.000000\n",
      "12     21866.666667\n",
      "13         0.000000\n",
      "14         0.000000\n",
      "15      8280.333333\n",
      "16    258071.000000\n",
      "17         0.000000\n",
      "18         0.000000\n",
      "19    102713.000000\n",
      "Name: Fac_T12, dtype: float64\n"
     ]
    }
   ],
   "source": [
    "# Selecciona la columna específica\n",
    "specific_column = 'Fac_T12'\n",
    "column_data = df[specific_column]\n",
    "\n",
    "# Muestra los primeros 20 datos de la columna\n",
    "print(column_data.head(20))"
   ]
  },
  {
   "cell_type": "code",
   "execution_count": null,
   "id": "e669b9f1-3968-4788-bafe-f60ccc51d44a",
   "metadata": {},
   "outputs": [],
   "source": []
  }
 ],
 "metadata": {
  "kernelspec": {
   "display_name": "Python 3 (ipykernel)",
   "language": "python",
   "name": "python3"
  },
  "language_info": {
   "codemirror_mode": {
    "name": "ipython",
    "version": 3
   },
   "file_extension": ".py",
   "mimetype": "text/x-python",
   "name": "python",
   "nbconvert_exporter": "python",
   "pygments_lexer": "ipython3",
   "version": "3.12.4"
  }
 },
 "nbformat": 4,
 "nbformat_minor": 5
}
